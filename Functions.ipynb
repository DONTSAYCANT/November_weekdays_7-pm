{
  "nbformat": 4,
  "nbformat_minor": 0,
  "metadata": {
    "colab": {
      "name": "Functions.ipynb",
      "provenance": [],
      "collapsed_sections": []
    },
    "kernelspec": {
      "name": "python3",
      "display_name": "Python 3"
    },
    "language_info": {
      "name": "python"
    },
    "accelerator": "TPU"
  },
  "cells": [
    {
      "cell_type": "code",
      "metadata": {
        "id": "Svjca_HOTUUI"
      },
      "source": [
        "#Functions \n",
        "\n",
        "#Inbuilt function https://www.w3schools.com/python/python_ref_functions.asp\n",
        "#important inbuilt functions ==> common functionality available already inside \n",
        "\n",
        "#User def function ==> wrting a function for our specific purpose\n",
        "\n",
        "#function call\n",
        "#function definition\n",
        "#arguement/parameter\n",
        "\n",
        "#return \n",
        "#recursive functions\n",
        "#Rules for writing user functions"
      ],
      "execution_count": null,
      "outputs": []
    },
    {
      "cell_type": "code",
      "metadata": {
        "id": "dj5EgZndT4d-"
      },
      "source": [
        "#Function ?\n",
        "\n",
        "#1000 lines : 20 times same 5 lines\n",
        "\n",
        "#wasting 100 lines \n",
        "\n",
        "#5 lines ==> single function \n",
        "\n",
        "#call ==> n number of times"
      ],
      "execution_count": null,
      "outputs": []
    },
    {
      "cell_type": "code",
      "metadata": {
        "colab": {
          "base_uri": "https://localhost:8080/"
        },
        "id": "z1lI45V0UesG",
        "outputId": "be48e935-5b57-4c41-f069-68d6a05e4a3b"
      },
      "source": [
        "#User defined function\n",
        "\n",
        "a = 10\n",
        "b = 20\n",
        "c = a + b\n",
        "print(\"The addition of two values are \",c)\n",
        "\n",
        "g = 50\n",
        "h = 100\n",
        "i = g + h\n",
        "print(\"The addition of two values are \",i)\n",
        "\n",
        "x = 1000\n",
        "y = 125\n",
        "z = x + y\n",
        "print(\"The addition of two values are \",z)"
      ],
      "execution_count": 17,
      "outputs": [
        {
          "output_type": "stream",
          "name": "stdout",
          "text": [
            "The addition of two values are  30\n",
            "The addition of two values are  150\n",
            "The addition of two values are  1125\n"
          ]
        }
      ]
    },
    {
      "cell_type": "code",
      "metadata": {
        "colab": {
          "base_uri": "https://localhost:8080/"
        },
        "id": "rVO8xcA5VDik",
        "outputId": "dbee2af8-b225-42f2-ab02-e872274c54c3"
      },
      "source": [
        "#User def function ===> both function def and function call\n",
        "#inbuilt function ==> function call\n",
        "\n",
        "def sum_ops(val1,val2):\n",
        "  return \"The addition of two values are \"+ str(val1+val2)\n",
        "print(sum_ops(10,20))\n",
        "print(sum_ops(50,100))\n",
        "print(sum_ops(1000,125))"
      ],
      "execution_count": 18,
      "outputs": [
        {
          "output_type": "stream",
          "name": "stdout",
          "text": [
            "The addition of two values are 30\n",
            "The addition of two values are 150\n",
            "The addition of two values are 1125\n"
          ]
        }
      ]
    },
    {
      "cell_type": "code",
      "metadata": {
        "id": "9tnUPgyRTVWB"
      },
      "source": [
        "#Inbuilt functions\n",
        "\n",
        "print ==> print\n",
        "type ==> \n",
        "len \n",
        "sum\n",
        "format\n",
        "str\n",
        "del\n",
        "input \n",
        "int \n",
        "float\n",
        "bool\n",
        "min\n",
        "max\n",
        "map/filter\n",
        "tuple\n",
        "range\n",
        "list\n",
        "dict\n",
        "set \n",
        "ord\n",
        "chr\n",
        "zip\n",
        "abs\n",
        "any\n",
        "all\n",
        "bin\n",
        "oct\n",
        "hex\n",
        "divmod \n",
        "pow\n",
        "id\n",
        "\n",
        "\n"
      ],
      "execution_count": null,
      "outputs": []
    },
    {
      "cell_type": "code",
      "metadata": {
        "colab": {
          "base_uri": "https://localhost:8080/"
        },
        "id": "Z_tt6ow4Xxng",
        "outputId": "73348633-865b-43dd-d560-5f3dbdd53ea2"
      },
      "source": [
        "#ord\n",
        "\n",
        "a = \"z\"\n",
        "print(ord(a))\n",
        "\n",
        "#chr\n",
        "\n",
        "b = 100\n",
        "print(chr(b))\n",
        "#zip\n",
        "\n",
        "Li1 = [1,2,3,4,5]\n",
        "Li4 = [\"pi\", \"ci\", \"di\", \"vi\"]\n",
        "\n",
        "print(dict(zip(Li1, Li4)))"
      ],
      "execution_count": 22,
      "outputs": [
        {
          "output_type": "stream",
          "name": "stdout",
          "text": [
            "122\n",
            "d\n",
            "{1: 'pi', 2: 'ci', 3: 'di', 4: 'vi'}\n"
          ]
        }
      ]
    },
    {
      "cell_type": "code",
      "metadata": {
        "colab": {
          "base_uri": "https://localhost:8080/"
        },
        "id": "gQw_zBSHTVZY",
        "outputId": "06bee9c0-3a2b-4baa-f658-b393e1f8df50"
      },
      "source": [
        "a = -9.5\n",
        "print(abs(a))"
      ],
      "execution_count": 23,
      "outputs": [
        {
          "output_type": "stream",
          "name": "stdout",
          "text": [
            "9.5\n"
          ]
        }
      ]
    },
    {
      "cell_type": "code",
      "metadata": {
        "colab": {
          "base_uri": "https://localhost:8080/"
        },
        "id": "OKufQ9lUTVdI",
        "outputId": "5eb3e888-e6d2-43f0-8a1e-f0f82345e1f7"
      },
      "source": [
        "#any ===> OR gate\n",
        "#AND ===> all\n",
        "\n",
        "print(any([10 < 20, len(\"python\") == True, 1 > 5]))"
      ],
      "execution_count": 25,
      "outputs": [
        {
          "output_type": "stream",
          "name": "stdout",
          "text": [
            "True\n"
          ]
        }
      ]
    },
    {
      "cell_type": "code",
      "metadata": {
        "colab": {
          "base_uri": "https://localhost:8080/"
        },
        "id": "tgWVTPCzTVfv",
        "outputId": "8be5fb86-6c5e-4165-c3ac-723ff95a321e"
      },
      "source": [
        "print(all([True, True, True, False]))\n",
        "print(all([True, True, True, True]))"
      ],
      "execution_count": 27,
      "outputs": [
        {
          "output_type": "stream",
          "name": "stdout",
          "text": [
            "False\n",
            "True\n"
          ]
        }
      ]
    },
    {
      "cell_type": "code",
      "metadata": {
        "colab": {
          "base_uri": "https://localhost:8080/"
        },
        "id": "wFIJ6r4aTViz",
        "outputId": "edc13a6e-fb8b-4f99-f085-ee20c88f124f"
      },
      "source": [
        "a = 100\n",
        "print(bin(a))\n",
        "print(oct(a))\n",
        "print(hex(a))\n"
      ],
      "execution_count": 29,
      "outputs": [
        {
          "output_type": "stream",
          "name": "stdout",
          "text": [
            "0b1100100\n",
            "0o144\n",
            "0x64\n"
          ]
        }
      ]
    },
    {
      "cell_type": "code",
      "metadata": {
        "colab": {
          "base_uri": "https://localhost:8080/"
        },
        "id": "PHeSjcdKTVmo",
        "outputId": "71a02153-1ba8-4073-f59a-1832fdcc350f"
      },
      "source": [
        "#User def function and terms\n",
        "\n",
        "def sum_values(val1, val2, val3): #function definition (process of the function)\n",
        "  output = (val1 + val2 ) * (val1 - val2)\n",
        "  return output #last line of the function to be executed\n",
        "\n",
        "print(sum_values(10,20,30))\n",
        "print(sum_values(5,3,1))\n",
        "print(sum_values(100,20,5))\n",
        "\n"
      ],
      "execution_count": 33,
      "outputs": [
        {
          "output_type": "stream",
          "name": "stdout",
          "text": [
            "-300\n",
            "16\n",
            "9600\n"
          ]
        }
      ]
    },
    {
      "cell_type": "code",
      "metadata": {
        "colab": {
          "base_uri": "https://localhost:8080/"
        },
        "id": "nznP1w7UTVrL",
        "outputId": "75e1f6a3-5677-4ad7-fc2d-7cddc3517fc8"
      },
      "source": [
        "#default para,eters /optional parameter\n",
        "\n",
        "def sum_values1(val1, val2, val3=1000): #function definition (process of the function)\n",
        "  output = val1 + val2 + val3\n",
        "  return output #last line of the function to be executed\n",
        "\n",
        "print(sum_values1(10,20,30))\n",
        "print(sum_values1(10,20))\n",
        "\n"
      ],
      "execution_count": 41,
      "outputs": [
        {
          "output_type": "stream",
          "name": "stdout",
          "text": [
            "60\n",
            "1030\n"
          ]
        }
      ]
    },
    {
      "cell_type": "code",
      "metadata": {
        "id": "cQZo2gXNTVvt"
      },
      "source": [
        "#recursive"
      ],
      "execution_count": null,
      "outputs": []
    },
    {
      "cell_type": "code",
      "metadata": {
        "colab": {
          "base_uri": "https://localhost:8080/"
        },
        "id": "XBuzgnnkTVy7",
        "outputId": "31bf0612-373c-4930-c508-0564d5c47025"
      },
      "source": [
        "def str_func(str1, str2):\n",
        "  return list([str1[0] + str2[-1], str1[-1] + str2[0]])\n",
        "\n",
        "print(type(str_func(\"python\", \"java\")))\n",
        "\n",
        "print(str_func(\"python\", \"java\"))"
      ],
      "execution_count": 49,
      "outputs": [
        {
          "output_type": "stream",
          "name": "stdout",
          "text": [
            "<class 'list'>\n",
            "['pa', 'nj']\n"
          ]
        }
      ]
    },
    {
      "cell_type": "code",
      "metadata": {
        "id": "WbzU6JUNTV2G"
      },
      "source": [
        ""
      ],
      "execution_count": null,
      "outputs": []
    },
    {
      "cell_type": "code",
      "metadata": {
        "id": "MkA_xiRlTV5V"
      },
      "source": [
        ""
      ],
      "execution_count": null,
      "outputs": []
    },
    {
      "cell_type": "code",
      "metadata": {
        "id": "5_EoTKqdTV72"
      },
      "source": [
        ""
      ],
      "execution_count": null,
      "outputs": []
    },
    {
      "cell_type": "code",
      "metadata": {
        "id": "F3o_-OFITV_Q"
      },
      "source": [
        ""
      ],
      "execution_count": null,
      "outputs": []
    },
    {
      "cell_type": "code",
      "metadata": {
        "id": "kYPiHdVPTWBj"
      },
      "source": [
        ""
      ],
      "execution_count": null,
      "outputs": []
    },
    {
      "cell_type": "code",
      "metadata": {
        "id": "nGMquTc2TWGU"
      },
      "source": [
        ""
      ],
      "execution_count": null,
      "outputs": []
    },
    {
      "cell_type": "code",
      "metadata": {
        "id": "zc_zEhF4TWJF"
      },
      "source": [
        ""
      ],
      "execution_count": null,
      "outputs": []
    },
    {
      "cell_type": "code",
      "metadata": {
        "id": "piGG0fnXTWLy"
      },
      "source": [
        ""
      ],
      "execution_count": null,
      "outputs": []
    },
    {
      "cell_type": "code",
      "metadata": {
        "id": "Xx84dOGCTWQZ"
      },
      "source": [
        ""
      ],
      "execution_count": null,
      "outputs": []
    },
    {
      "cell_type": "code",
      "metadata": {
        "id": "N_SXF5mhTWXG"
      },
      "source": [
        ""
      ],
      "execution_count": null,
      "outputs": []
    },
    {
      "cell_type": "code",
      "metadata": {
        "id": "ZsW2XyUsTWaB"
      },
      "source": [
        ""
      ],
      "execution_count": null,
      "outputs": []
    },
    {
      "cell_type": "code",
      "metadata": {
        "id": "bvs7QCEwKpnd"
      },
      "source": [
        "Get list of strings from user (collect number of elements)\n",
        "separate it in to two lists with vowles and non vowels \n",
        "\n",
        "[\"hi\",\"ggg\",\"hello\",\"ravi\",\"bbbb\",\"zzz\",\"yyyy\"]\n",
        "\n",
        "No of elements with vowel: 4\n",
        "No of elements without vowel: 3"
      ],
      "execution_count": null,
      "outputs": []
    },
    {
      "cell_type": "code",
      "metadata": {
        "colab": {
          "base_uri": "https://localhost:8080/"
        },
        "id": "sVtLCMB5MYbT",
        "outputId": "bec347d3-27d7-46f9-b71e-b04500b45e0d"
      },
      "source": [
        "#collect list of strings from user\n",
        "\n",
        "n = int(input(\"please enter number of list elements: \"))\n",
        "Li = []\n",
        "\n",
        "for i in range(n):\n",
        "  temp = input(\"please enter a string: \")\n",
        "  Li.append(temp)\n",
        "print(Li)\n",
        "\n",
        "with_vowel = 0\n",
        "without_vowel = 0\n",
        "\n",
        "for i in Li:\n",
        "  if any([\"a\" in i, \"e\" in i , \"i\" in i, \"o\" in i , \"u\" in i]):\n",
        "  if \"a\" in i or \"e\" in i or \"i\" in i or \"o\" in i or \"u\" in i:\n",
        "    with_vowel = with_vowel + 1\n",
        "  else:\n",
        "    without_vowel = without_vowel + 1\n",
        "\n",
        "print(\"No elements with vowels are \",with_vowel)\n",
        "print(\"No elements without vowels are \",without_vowel)\n"
      ],
      "execution_count": 8,
      "outputs": [
        {
          "output_type": "stream",
          "name": "stdout",
          "text": [
            "please enter number of list elements: 10\n",
            "please enter a string: aaa\n",
            "please enter a string: bbbb\n",
            "please enter a string: cccc\n",
            "please enter a string: dddd\n",
            "please enter a string: eeeee\n",
            "please enter a string: iiii\n",
            "please enter a string: python\n",
            "please enter a string: java\n",
            "please enter a string: go\n",
            "please enter a string: zzzz\n",
            "['aaa', 'bbbb', 'cccc', 'dddd', 'eeeee', 'iiii', 'python', 'java', 'go', 'zzzz']\n",
            "No elements with vowels are  6\n",
            "No elements without vowels are  4\n"
          ]
        }
      ]
    },
    {
      "cell_type": "code",
      "metadata": {
        "colab": {
          "base_uri": "https://localhost:8080/"
        },
        "id": "nmBtMxtCOF3F",
        "outputId": "b57a3a34-bd48-4d74-9356-0e4850d11a47"
      },
      "source": [
        "\n",
        "\n"
      ],
      "execution_count": 7,
      "outputs": [
        {
          "output_type": "stream",
          "name": "stdout",
          "text": [
            "python\n",
            "vowel available\n",
            "gggg\n",
            "aaa\n",
            "vowel available\n",
            "wwww\n",
            "hhhh\n"
          ]
        }
      ]
    },
    {
      "cell_type": "code",
      "metadata": {
        "colab": {
          "base_uri": "https://localhost:8080/"
        },
        "id": "eEZoFJdkNdIn",
        "outputId": "6b3e4051-82bb-4c1c-c6fd-8aedf6493345"
      },
      "source": [
        "print(\"a\" in \"java\")"
      ],
      "execution_count": 5,
      "outputs": [
        {
          "output_type": "stream",
          "name": "stdout",
          "text": [
            "True\n"
          ]
        }
      ]
    },
    {
      "cell_type": "code",
      "metadata": {
        "id": "LmlNHUdSLu5W"
      },
      "source": [
        "Multiples of 8 between 120 to 20 using while loop"
      ],
      "execution_count": null,
      "outputs": []
    },
    {
      "cell_type": "code",
      "metadata": {
        "colab": {
          "base_uri": "https://localhost:8080/"
        },
        "id": "y8Vq3utVPsuO",
        "outputId": "bc913d60-0092-4078-afb7-88f063115c6a"
      },
      "source": [
        "a = 120\n",
        "\n",
        "while a > 20:\n",
        "  a = a - 1\n",
        "  if a % 8 == 0:\n",
        "    print(a)"
      ],
      "execution_count": 12,
      "outputs": [
        {
          "output_type": "stream",
          "name": "stdout",
          "text": [
            "112\n",
            "104\n",
            "96\n",
            "88\n",
            "80\n",
            "72\n",
            "64\n",
            "56\n",
            "48\n",
            "40\n",
            "32\n",
            "24\n"
          ]
        }
      ]
    },
    {
      "cell_type": "code",
      "metadata": {
        "id": "s0Fj8ecyMAjN"
      },
      "source": [
        "Get list of strings from user\n",
        "separate it two list (with same first letter and last letter and othr)\n",
        "\n",
        "[\"garg\", \"kohli\", \"rohitr\", \"ishan\", \"dhoni\",\"dad\"]\n",
        "\n",
        "No of elements with same first letter and last letter: 3\n",
        "Other List: 3"
      ],
      "execution_count": null,
      "outputs": []
    },
    {
      "cell_type": "code",
      "metadata": {
        "colab": {
          "base_uri": "https://localhost:8080/"
        },
        "id": "C1s5Ns8rQcKI",
        "outputId": "678e76db-31e7-4c5f-dc17-689fc035ef41"
      },
      "source": [
        "n = int(input(\"please enter number of list elements: \"))\n",
        "Li = []\n",
        "\n",
        "for i in range(n):\n",
        "  temp = input(\"please enter a string: \")\n",
        "  Li.append(temp)\n",
        "print(Li)"
      ],
      "execution_count": 14,
      "outputs": [
        {
          "output_type": "stream",
          "name": "stdout",
          "text": [
            "please enter number of list elements: 5\n",
            "please enter a string: abba\n",
            "please enter a string: cccc\n",
            "please enter a string: dddd\n",
            "please enter a string: abcd\n",
            "please enter a string: bcgd\n",
            "['abba', 'cccc', 'dddd', 'abcd', 'bcgd']\n"
          ]
        }
      ]
    },
    {
      "cell_type": "code",
      "metadata": {
        "colab": {
          "base_uri": "https://localhost:8080/"
        },
        "id": "EvX8DupmQnqn",
        "outputId": "ce6af8fc-0de8-4dd5-e308-5d02136cafef"
      },
      "source": [
        "with_same_first_last = []\n",
        "with_diff_first_last = []\n",
        "\n",
        "for i in Li:\n",
        "  if i[0] == i[-1]:\n",
        "    with_same_first_last.append(i)\n",
        "  else:\n",
        "    with_diff_first_last.append(i)\n",
        "\n",
        "print(\"Expected same first last {} and its count {}\".format(with_same_first_last, len(with_same_first_last)) )\n",
        "print(\"Others  diff first last {} and its count {}\".format(with_diff_first_last, len(with_diff_first_last)) )"
      ],
      "execution_count": 16,
      "outputs": [
        {
          "output_type": "stream",
          "name": "stdout",
          "text": [
            "Expected same first last ['abba', 'cccc', 'dddd'] and its count 3\n",
            "Others  diff first last ['abcd', 'bcgd'] and its count 2\n"
          ]
        }
      ]
    },
    {
      "cell_type": "code",
      "metadata": {
        "id": "OisoR9iJMF0E"
      },
      "source": [
        "getting list from user"
      ],
      "execution_count": null,
      "outputs": []
    },
    {
      "cell_type": "code",
      "metadata": {
        "id": "BXYv63P-Rl28"
      },
      "source": [
        "collect one dictionary from user\n",
        "\n",
        "#number of elemetns\n",
        "\n",
        "#key and value for number of elements"
      ],
      "execution_count": null,
      "outputs": []
    },
    {
      "cell_type": "code",
      "metadata": {
        "id": "Oya6RxtyMWVP"
      },
      "source": [
        "Program to check a number is prime or no\n",
        "\n",
        "#prime number ===> divisble only by 1 and itself \n",
        "#2 is the first prime number\n",
        "\n",
        "#9 ==> 1,3,9\n",
        "#5 ==> 1,5\n",
        "#23 ==> 1,23\n",
        "#25  ==> 1,5,25\n",
        "\n"
      ],
      "execution_count": null,
      "outputs": []
    },
    {
      "cell_type": "code",
      "metadata": {
        "id": "vI6_LUqnSxob"
      },
      "source": [
        "anagram\n",
        "\n",
        "#two strings\n",
        "#pot and pto are anagrams\n",
        "\n",
        "#pot and pta are not anagrams\n",
        "\n",
        "#lengths are equal\n",
        "#set()"
      ],
      "execution_count": null,
      "outputs": []
    }
  ]
}