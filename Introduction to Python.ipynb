{
 "cells": [
  {
   "cell_type": "code",
   "execution_count": null,
   "metadata": {},
   "outputs": [],
   "source": [
    "Install python on system\n",
    "\n",
    "pycharm/ IDLE / jupyter notebook\n",
    "\n",
    "IDLE /pycharm/Jupyter ===> IDE  3.8 python version\n",
    "https://www.python.org/downloads/\n",
    "   \n",
    "\n",
    "Hackerrank.com ===> Online coding platform\n",
    "https://www.hackerrank.com/\n",
    "\n",
    "    \n",
    "Github.com  ===> version controlled storage\n",
    "https://github.com/\n",
    "    \n",
    "\n",
    "\n",
    "Task1: 5 tasks\n",
    "    \n",
    "Test: 2-3 test \n",
    "    \n",
    "Project: 3-6 projects/mini projects\n",
    "    \n",
    "Hackerrank: 300 - 400 points\n",
    "    \n",
    "Assignments/seminars/study:"
   ]
  },
  {
   "cell_type": "code",
   "execution_count": null,
   "metadata": {},
   "outputs": [],
   "source": [
    "50 to 60 hrs\n",
    "\n",
    "9 weeks\n",
    "\n",
    "#Basic (1 month)\n",
    "\n",
    "python programming basic\n",
    "Data types\n",
    "String indexing and slicing\n",
    "Data structure\n",
    "List tuple set dictionary methods\n",
    "Conditional stmts if elif else\n",
    "Loops for while for else while else continue pass break\n",
    "Functions inbuilt funtions User functions othe\n",
    "anonymous function / lmabda\n",
    "\n",
    "#Mid level 3 weeks \n",
    "\n",
    "Exception handling\n",
    "Modules/Libraries inbuilt modules/User def\n",
    "Collecions \n",
    "data time \n",
    "os and sys\n",
    "re regular expression\n",
    "File handling\n",
    "\n",
    "\n",
    "#Advanced \n",
    "\n",
    "Oops\n",
    "class and object\n",
    "Inheritance\n",
    "overriding\n",
    "abstract class\n",
    "super class\n",
    "encapsulation\n",
    "Multi threading\n",
    "data base \n",
    "network connectivity django basics"
   ]
  },
  {
   "cell_type": "code",
   "execution_count": null,
   "metadata": {},
   "outputs": [],
   "source": [
    "#programming\n",
    "\n",
    "#python\n",
    "\n",
    "#simple and library rich\n",
    "#AI ml dl \n",
    "\n",
    "\n",
    "#variable\n",
    "#data type\n",
    "#operator\n",
    "#data strucutre\n",
    "#key words\n",
    "\n",
    "\n"
   ]
  },
  {
   "cell_type": "code",
   "execution_count": null,
   "metadata": {},
   "outputs": [],
   "source": [
    "int a = 10;\n",
    "\n",
    "\n",
    "\n",
    "a = 10"
   ]
  }
 ],
 "metadata": {
  "kernelspec": {
   "display_name": "Python 3",
   "language": "python",
   "name": "python3"
  },
  "language_info": {
   "codemirror_mode": {
    "name": "ipython",
    "version": 3
   },
   "file_extension": ".py",
   "mimetype": "text/x-python",
   "name": "python",
   "nbconvert_exporter": "python",
   "pygments_lexer": "ipython3",
   "version": "3.7.6"
  }
 },
 "nbformat": 4,
 "nbformat_minor": 4
}
