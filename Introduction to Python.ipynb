{
 "cells": [
  {
   "cell_type": "code",
   "execution_count": null,
   "metadata": {},
   "outputs": [],
   "source": [
    "Install python on system\n",
    "\n",
    "pycharm/ IDLE / jupyter notebook\n",
    "\n",
    "IDLE /pycharm/Jupyter ===> IDE  3.8 python version\n",
    "https://www.python.org/downloads/\n",
    "   \n",
    "\n",
    "Hackerrank.com ===> Online coding platform\n",
    "https://www.hackerrank.com/\n",
    "\n",
    "    \n",
    "Github.com  ===> version controlled storage\n",
    "https://github.com/\n",
    "    \n",
    "\n",
    "6.50 pm to 7.30 pm\n",
    "Mon to Fri \n",
    "\n",
    "Task1: 5 tasks\n",
    "    \n",
    "Test: 2-3 test \n",
    "    \n",
    "Project: 3-6 projects/mini projects\n",
    "    \n",
    "Hackerrank: 300 - 400 points\n",
    "    \n",
    "Assignments/seminars/study:"
   ]
  },
  {
   "cell_type": "code",
   "execution_count": null,
   "metadata": {},
   "outputs": [],
   "source": [
    "50 to 60 hrs\n",
    "\n",
    "9 weeks\n",
    "\n",
    "#Basic (1 month)\n",
    "\n",
    "python programming basic\n",
    "Data types\n",
    "String indexing and slicing\n",
    "Data structure\n",
    "List tuple set dictionary methods\n",
    "Conditional stmts if elif else\n",
    "Loops for while for else while else continue pass break\n",
    "Functions inbuilt funtions User functions othe\n",
    "anonymous function / lmabda\n",
    "\n",
    "#Mid level 3 weeks \n",
    "\n",
    "Exception handling\n",
    "Modules/Libraries inbuilt modules/User def\n",
    "Collecions \n",
    "data time \n",
    "os and sys\n",
    "re regular expression\n",
    "File handling\n",
    "\n",
    "\n",
    "#Advanced \n",
    "\n",
    "Oops\n",
    "class and object\n",
    "Inheritance\n",
    "overriding\n",
    "abstract class\n",
    "super class\n",
    "encapsulation\n",
    "Multi threading\n",
    "data base \n",
    "network connectivity django basics"
   ]
  },
  {
   "cell_type": "code",
   "execution_count": null,
   "metadata": {},
   "outputs": [],
   "source": [
    "#programming\n",
    "\n",
    "#python\n",
    "\n",
    "#simple and library rich\n",
    "#AI ml dl \n",
    "\n",
    "\n",
    "#variable ==> Storing value ===> container for stroing value\n",
    "#data type ==>  type of the data (int float string boolean char complex)\n",
    "\n",
    "#data strucutre ===> way to organizing data (primitive, non primitive) List tuple set dictionary\n",
    "#key words  ==> reserved words \n",
    "#operator ==> operating data or process\n",
    "\n",
    "#Arithmetic operator  + - * /  // ** %\n",
    "#comparitive operator  < <=  > >= == != \n",
    "#Assignment operator  = += -= *=\n",
    "#ternary operator single line condition\n",
    "#logical operator  and or not \n",
    "\n",
    "\n",
    "\n",
    "\n",
    "if \n",
    "for \n",
    "class \n",
    "def \n",
    "else \n",
    "\n",
    "\n",
    "creating variables,\n",
    "creating classes \n",
    "creating function"
   ]
  },
  {
   "cell_type": "code",
   "execution_count": null,
   "metadata": {},
   "outputs": [],
   "source": [
    "int a = 10;\n",
    "\n",
    "\n",
    "\n",
    "a = 10"
   ]
  },
  {
   "cell_type": "code",
   "execution_count": 1,
   "metadata": {},
   "outputs": [
    {
     "name": "stdout",
     "output_type": "stream",
     "text": [
      "The total price is  60\n"
     ]
    }
   ],
   "source": [
    "a = 10\n",
    "b = 20.0009\n",
    "c = 30\n",
    "\n",
    "d = \"python\"\n",
    "e = \"Hello\"\n",
    "f = 'values'\n",
    "\n",
    "print(\"The total price is \", a+b+c)"
   ]
  },
  {
   "cell_type": "code",
   "execution_count": null,
   "metadata": {},
   "outputs": [],
   "source": [
    "ticket = {\"name\": \"python\", \"Station_from\":\"Chennai\", \"age\":26, \"station_to\":\"Bangalore\", \"class\":2}"
   ]
  },
  {
   "cell_type": "code",
   "execution_count": 3,
   "metadata": {},
   "outputs": [
    {
     "name": "stdout",
     "output_type": "stream",
     "text": [
      "5\n"
     ]
    }
   ],
   "source": [
    "#ternary operator\n",
    "\n",
    "a = 0\n",
    "\n",
    "b = 5 if a < 1 else 6\n",
    "\n",
    "print(b)"
   ]
  },
  {
   "cell_type": "code",
   "execution_count": null,
   "metadata": {},
   "outputs": [],
   "source": [
    "#+ - * /  // ** %\n",
    "\n",
    "\n",
    "print(9 + 4) #13\n",
    "print(9 * 4) #36\n",
    "print(9 - 4) #5\n",
    "print(9 / 4) #2.25\n",
    "\n",
    "\n",
    "print(7 // 4)\n",
    "print(-7 // 4)\n",
    "print(9 // 4)\n",
    "print(-9 // 4)\n",
    "\n",
    "#modulo \n",
    "print(10%3)    #1\n",
    "print(12 % 5)  #2\n",
    "print(13 % 8 ) #5\n",
    " \n",
    "#power\n",
    "print(2 ** 4)\n",
    "print(3 ** 4)\n",
    "print(8 ** 2)"
   ]
  },
  {
   "cell_type": "code",
   "execution_count": 4,
   "metadata": {},
   "outputs": [
    {
     "name": "stdout",
     "output_type": "stream",
     "text": [
      "13\n",
      "36\n",
      "5\n",
      "2.25\n"
     ]
    }
   ],
   "source": [
    "print(9 + 4) #13\n",
    "print(9 * 4) #36\n",
    "print(9 - 4) #5\n",
    "print(9 / 4) #2.25"
   ]
  },
  {
   "cell_type": "code",
   "execution_count": 5,
   "metadata": {},
   "outputs": [
    {
     "name": "stdout",
     "output_type": "stream",
     "text": [
      "1\n",
      "2\n",
      "5\n"
     ]
    }
   ],
   "source": [
    "#modulo \n",
    "print(10%3)    #1\n",
    "print(12 % 5)  #2\n",
    "print(13 % 8 ) #5"
   ]
  },
  {
   "cell_type": "code",
   "execution_count": 6,
   "metadata": {},
   "outputs": [
    {
     "name": "stdout",
     "output_type": "stream",
     "text": [
      "16\n",
      "81\n",
      "64\n"
     ]
    }
   ],
   "source": [
    "#power\n",
    "print(2 ** 4)\n",
    "print(3 ** 4)\n",
    "print(8 ** 2)"
   ]
  },
  {
   "cell_type": "code",
   "execution_count": 1,
   "metadata": {},
   "outputs": [
    {
     "name": "stdout",
     "output_type": "stream",
     "text": [
      "1\n",
      "-2\n",
      "2\n",
      "-3\n"
     ]
    }
   ],
   "source": [
    "#floor divison\n",
    "\n",
    "print(7 // 4)  #1\n",
    "print(-7 // 4) #-2\n",
    "print(9 // 4)  #2\n",
    "print(-9 // 4) #-3\n",
    "\n",
    "#Normal divison\n",
    "#find minmal value from quotient\n",
    "\n",
    "#7 / 4 ==> 1.75\n",
    "#-5 -4 -3 -2 -1 0 1 2 3 4 5 \n",
    "#1\n",
    "\n",
    "#-7 / 4 ==> -1.75\n",
    "#-2"
   ]
  },
  {
   "cell_type": "code",
   "execution_count": null,
   "metadata": {},
   "outputs": [],
   "source": [
    "#Functions:\n",
    "\n",
    "#Types of functions \n",
    "\n",
    "#inbuilt funtion\n",
    "#User def function\n",
    "\n",
    "#print function\n",
    "#type function\n",
    "#len function\n",
    "#input function"
   ]
  },
  {
   "cell_type": "code",
   "execution_count": null,
   "metadata": {},
   "outputs": [],
   "source": [
    "#Function ===> Repetitive code in your program\n",
    "\n",
    "#1000\n",
    "\n",
    "#100 * 5\n",
    "\n",
    "#100 ==> function \n",
    "\n",
    "#function call\n",
    "\n",
    "\n",
    "#Inbuilt function\n",
    "#User defined function\n",
    "\n",
    "\n"
   ]
  },
  {
   "cell_type": "code",
   "execution_count": 3,
   "metadata": {},
   "outputs": [
    {
     "name": "stdout",
     "output_type": "stream",
     "text": [
      "hello world\n",
      "Happy diwali\n"
     ]
    }
   ],
   "source": [
    "a = \"hello world\"\n",
    "\n",
    "print(a) #==> printing value\n",
    "\n",
    "print(\"Happy diwali\")\n",
    "\n",
    "\n",
    "#inbult function"
   ]
  },
  {
   "cell_type": "code",
   "execution_count": 4,
   "metadata": {},
   "outputs": [
    {
     "name": "stdout",
     "output_type": "stream",
     "text": [
      "<class 'int'>\n",
      "<class 'str'>\n",
      "<class 'float'>\n"
     ]
    }
   ],
   "source": [
    "a = 10\n",
    "b = \"hello\"\n",
    "c = 10.99\n",
    "\n",
    "print(type(a))\n",
    "print(type(b))\n",
    "print(type(c))\n",
    "\n",
    "#type in built funtions\n",
    "\n",
    "#identify data type or data structure of the arguement \n",
    "\n",
    "#Class oop\n",
    "\n"
   ]
  },
  {
   "cell_type": "code",
   "execution_count": 7,
   "metadata": {},
   "outputs": [
    {
     "name": "stdout",
     "output_type": "stream",
     "text": [
      "The total value is value1+value2 good bad \n",
      "Good\n"
     ]
    }
   ],
   "source": [
    "#User defined function\n",
    "\n",
    "\n",
    "def function_exp2_iukbgkb(value1, value2):\n",
    "    print(\"The total value is value1+value2\", value1+value2)\n",
    "    return \"Good\"\n",
    "\n",
    "print(function_exp2_iukbgkb(\"good \", \"bad \"))\n",
    "\n"
   ]
  },
  {
   "cell_type": "code",
   "execution_count": null,
   "metadata": {},
   "outputs": [],
   "source": [
    "https://docs.python.org/3/library/functions.html"
   ]
  },
  {
   "cell_type": "code",
   "execution_count": 11,
   "metadata": {},
   "outputs": [
    {
     "name": "stdout",
     "output_type": "stream",
     "text": [
      "4\n",
      "<class 'list'>\n"
     ]
    }
   ],
   "source": [
    "Li = [1,2,3,4]\n",
    "\n",
    "print(len(Li))\n",
    "\n",
    "print(type(Li))"
   ]
  },
  {
   "cell_type": "code",
   "execution_count": null,
   "metadata": {},
   "outputs": [],
   "source": [
    "#Function and methods"
   ]
  },
  {
   "cell_type": "code",
   "execution_count": 10,
   "metadata": {},
   "outputs": [
    {
     "name": "stdout",
     "output_type": "stream",
     "text": [
      "34\n"
     ]
    }
   ],
   "source": [
    "#len ===> identifying length of the DS or string\n",
    "\n",
    "a = \"hi world welcome to python program\"\n",
    "\n",
    "\n",
    "print(len(a))"
   ]
  },
  {
   "cell_type": "code",
   "execution_count": 12,
   "metadata": {},
   "outputs": [
    {
     "ename": "TypeError",
     "evalue": "object of type 'int' has no len()",
     "output_type": "error",
     "traceback": [
      "\u001b[1;31m---------------------------------------------------------------------------\u001b[0m",
      "\u001b[1;31mTypeError\u001b[0m                                 Traceback (most recent call last)",
      "\u001b[1;32m<ipython-input-12-c9e5bc21aaff>\u001b[0m in \u001b[0;36m<module>\u001b[1;34m\u001b[0m\n\u001b[0;32m      1\u001b[0m \u001b[0ma\u001b[0m \u001b[1;33m=\u001b[0m \u001b[1;36m4\u001b[0m\u001b[1;33m\u001b[0m\u001b[1;33m\u001b[0m\u001b[0m\n\u001b[1;32m----> 2\u001b[1;33m \u001b[0mprint\u001b[0m\u001b[1;33m(\u001b[0m\u001b[0mlen\u001b[0m\u001b[1;33m(\u001b[0m\u001b[0ma\u001b[0m\u001b[1;33m)\u001b[0m\u001b[1;33m)\u001b[0m\u001b[1;33m\u001b[0m\u001b[1;33m\u001b[0m\u001b[0m\n\u001b[0m",
      "\u001b[1;31mTypeError\u001b[0m: object of type 'int' has no len()"
     ]
    }
   ],
   "source": [
    "a = 4\n",
    "print(len(a))"
   ]
  },
  {
   "cell_type": "code",
   "execution_count": 15,
   "metadata": {},
   "outputs": [
    {
     "name": "stdout",
     "output_type": "stream",
     "text": [
      "30\n",
      "The sum of a and b is  30\n"
     ]
    }
   ],
   "source": [
    "#comments\n",
    "# # is called as single line comments\n",
    "\n",
    "#line 1 comments\n",
    "#line 2 comments\n",
    "#line 3 comments\n",
    "\n",
    "#multi comments ===> doc strings\n",
    "\n",
    "'''\n",
    "This is called as multi line comment in python\n",
    "This line will not be considered during program execution\n",
    "'''\n",
    "\n",
    "\"\"\"\n",
    "This is also for multi\n",
    "line comment\n",
    "\"\"\"\n",
    "\n",
    "#Creating variable\n",
    "a = 10\n",
    "b = 20\n",
    "\n",
    "#Calculating addition\n",
    "print(a+b)\n",
    "\n",
    "##Printing Log\n",
    "print(\"The sum of a and b is \", a+b)\n"
   ]
  },
  {
   "cell_type": "code",
   "execution_count": 6,
   "metadata": {},
   "outputs": [
    {
     "name": "stdout",
     "output_type": "stream",
     "text": [
      "30\n",
      "70\n",
      "22\n",
      "27\n"
     ]
    }
   ],
   "source": [
    "#print:\n",
    "\n",
    "\n",
    "def function1(a,b):\n",
    "    return a+b\n",
    "\n",
    "print(function1(10,20))\n",
    "print(function1(20,50))\n",
    "print(function1(10,12), function1(12,15), sep=\"\\n\")"
   ]
  },
  {
   "cell_type": "code",
   "execution_count": 1,
   "metadata": {},
   "outputs": [
    {
     "name": "stdout",
     "output_type": "stream",
     "text": [
      "python****go****hello\n"
     ]
    }
   ],
   "source": [
    "#sep /end\n",
    "\n",
    "print(\"python\", \"go\", \"hello\", sep=\"****\")"
   ]
  },
  {
   "cell_type": "code",
   "execution_count": 5,
   "metadata": {},
   "outputs": [
    {
     "name": "stdout",
     "output_type": "stream",
     "text": [
      "python****hellonnnnnabcd\n",
      "hellow\n"
     ]
    }
   ],
   "source": [
    "print(\"python\", end=\"****\")\n",
    "print(\"hello\", end = \"nnnnn\")\n",
    "print(\"abcd\")\n",
    "print(\"hellow\")\n",
    "\n",
    "#default ===> new line\n"
   ]
  },
  {
   "cell_type": "code",
   "execution_count": 12,
   "metadata": {},
   "outputs": [
    {
     "name": "stdout",
     "output_type": "stream",
     "text": [
      "120\n",
      "<class 'int'>\n",
      "The addition of two values are 120\n",
      "The addition of 100 and 20 is 120\n",
      "The addition of 20 and 100 is 120\n"
     ]
    }
   ],
   "source": [
    "#program \n",
    "a = 100\n",
    "b = 20\n",
    "\n",
    "c = a + b\n",
    "\n",
    "print(c)\n",
    "print(type(c))\n",
    "\n",
    "print(\"The addition of two values are\", c)\n",
    "\n",
    "print(\"The addition of {} and {} is {}\".format(a,b,c))\n",
    "\n",
    "print(\"The addition of {1} and {0} is {2}\".format(a,b,c))\n",
    "\n",
    "#(0,1,2,3,4...)\n",
    "\n",
    "#format ===> formatting your output\n",
    "\n",
    "\n",
    "#method\n",
    "#function"
   ]
  },
  {
   "cell_type": "code",
   "execution_count": 15,
   "metadata": {},
   "outputs": [
    {
     "name": "stdout",
     "output_type": "stream",
     "text": [
      "The area of circle with radius 3.5 and constant pi 3.14 is 38.465\n"
     ]
    }
   ],
   "source": [
    "#format function\n",
    "\n",
    "#IDLE \n",
    "pi = 3.14\n",
    "radius = 3.5\n",
    "\n",
    "Area = pi * (radius ** 2)\n",
    "\n",
    "print(\"The area of circle with radius {} and constant pi {} is {}\".format(radius,pi,Area))"
   ]
  },
  {
   "cell_type": "code",
   "execution_count": 18,
   "metadata": {},
   "outputs": [
    {
     "name": "stdout",
     "output_type": "stream",
     "text": [
      "10.0\n",
      "20\n"
     ]
    }
   ],
   "source": [
    "#int \n",
    "#float\n",
    "#bool\n",
    "#str\n",
    "\n",
    "a = 10\n",
    "print(float(a))\n",
    "\n",
    "b = 20.00009\n",
    "print(int(b))"
   ]
  },
  {
   "cell_type": "code",
   "execution_count": 21,
   "metadata": {},
   "outputs": [
    {
     "name": "stdout",
     "output_type": "stream",
     "text": [
      "The area of circle with radius 3.5 and constant pi 3.14 is 38\n"
     ]
    }
   ],
   "source": [
    "#format function\n",
    "\n",
    "#IDLE \n",
    "pi = 3.14\n",
    "radius = 3.5\n",
    "\n",
    "Area = pi * (radius ** 2)\n",
    "\n",
    "print(\"The area of circle with radius {} and constant pi {} is {}\".format(radius,pi,int(Area)))"
   ]
  },
  {
   "cell_type": "code",
   "execution_count": null,
   "metadata": {},
   "outputs": [],
   "source": [
    "#input function\n",
    "\n",
    "\n",
    "#IDLE \n",
    "pi = 3.14\n",
    "radius = 3.5\n",
    "\n",
    "Area = pi * (radius ** 2)\n",
    "\n",
    "print(\"The area of circle with radius {} and constant pi {} is {}\".format(radius,pi,Area))"
   ]
  },
  {
   "cell_type": "code",
   "execution_count": 23,
   "metadata": {},
   "outputs": [
    {
     "name": "stdout",
     "output_type": "stream",
     "text": [
      "5\n",
      "hghghjhg\n",
      "hghghjhg\n"
     ]
    }
   ],
   "source": [
    "a = 5\n",
    "\n",
    "print(a)\n",
    "\n",
    "b = input()\n",
    "\n",
    "print(b)\n",
    "\n"
   ]
  },
  {
   "cell_type": "code",
   "execution_count": 25,
   "metadata": {},
   "outputs": [
    {
     "name": "stdout",
     "output_type": "stream",
     "text": [
      "5\n",
      "<class 'int'>\n",
      " please enter a value: 5\n",
      "5\n",
      "<class 'str'>\n"
     ]
    }
   ],
   "source": [
    "a = 5\n",
    "\n",
    "print(a)\n",
    "print(type(a))\n",
    "\n",
    "b = input(\" please enter a value: \") #string from user \n",
    "\n",
    "print(b)\n",
    "print(type(b))\n"
   ]
  },
  {
   "cell_type": "code",
   "execution_count": 27,
   "metadata": {},
   "outputs": [
    {
     "name": "stdout",
     "output_type": "stream",
     "text": [
      "please enter a number: 10\n",
      "10\n",
      "<class 'int'>\n"
     ]
    }
   ],
   "source": [
    "b = int(input(\"please enter a number: \"))\n",
    "print(b)\n",
    "print(type(b))"
   ]
  },
  {
   "cell_type": "code",
   "execution_count": 1,
   "metadata": {},
   "outputs": [
    {
     "ename": "ValueError",
     "evalue": "invalid literal for int() with base 10: 'python'",
     "output_type": "error",
     "traceback": [
      "\u001b[1;31m---------------------------------------------------------------------------\u001b[0m",
      "\u001b[1;31mValueError\u001b[0m                                Traceback (most recent call last)",
      "\u001b[1;32m<ipython-input-1-2e744bda928c>\u001b[0m in \u001b[0;36m<module>\u001b[1;34m\u001b[0m\n\u001b[0;32m      1\u001b[0m \u001b[0ma\u001b[0m \u001b[1;33m=\u001b[0m \u001b[1;34m\"python\"\u001b[0m\u001b[1;33m\u001b[0m\u001b[1;33m\u001b[0m\u001b[0m\n\u001b[0;32m      2\u001b[0m \u001b[1;33m\u001b[0m\u001b[0m\n\u001b[1;32m----> 3\u001b[1;33m \u001b[0mprint\u001b[0m\u001b[1;33m(\u001b[0m\u001b[0mint\u001b[0m\u001b[1;33m(\u001b[0m\u001b[0ma\u001b[0m\u001b[1;33m)\u001b[0m\u001b[1;33m)\u001b[0m\u001b[1;33m\u001b[0m\u001b[1;33m\u001b[0m\u001b[0m\n\u001b[0m",
      "\u001b[1;31mValueError\u001b[0m: invalid literal for int() with base 10: 'python'"
     ]
    }
   ],
   "source": [
    "a = \"python\"\n",
    "\n",
    "print(int(a))"
   ]
  },
  {
   "cell_type": "code",
   "execution_count": null,
   "metadata": {},
   "outputs": [],
   "source": []
  }
 ],
 "metadata": {
  "kernelspec": {
   "display_name": "Python 3",
   "language": "python",
   "name": "python3"
  },
  "language_info": {
   "codemirror_mode": {
    "name": "ipython",
    "version": 3
   },
   "file_extension": ".py",
   "mimetype": "text/x-python",
   "name": "python",
   "nbconvert_exporter": "python",
   "pygments_lexer": "ipython3",
   "version": "3.7.6"
  }
 },
 "nbformat": 4,
 "nbformat_minor": 4
}
