{
 "cells": [
  {
   "cell_type": "code",
   "execution_count": null,
   "metadata": {},
   "outputs": [],
   "source": [
    "Install python on system\n",
    "\n",
    "pycharm/ IDLE / jupyter notebook\n",
    "\n",
    "IDLE /pycharm/Jupyter ===> IDE  3.8 python version\n",
    "https://www.python.org/downloads/\n",
    "   \n",
    "\n",
    "Hackerrank.com ===> Online coding platform\n",
    "https://www.hackerrank.com/\n",
    "\n",
    "    \n",
    "Github.com  ===> version controlled storage\n",
    "https://github.com/\n",
    "    \n",
    "\n",
    "6.50 pm to 7.30 pm\n",
    "Mon to Fri \n",
    "\n",
    "Task1: 5 tasks\n",
    "    \n",
    "Test: 2-3 test \n",
    "    \n",
    "Project: 3-6 projects/mini projects\n",
    "    \n",
    "Hackerrank: 300 - 400 points\n",
    "    \n",
    "Assignments/seminars/study:"
   ]
  },
  {
   "cell_type": "code",
   "execution_count": null,
   "metadata": {},
   "outputs": [],
   "source": [
    "50 to 60 hrs\n",
    "\n",
    "9 weeks\n",
    "\n",
    "#Basic (1 month)\n",
    "\n",
    "python programming basic\n",
    "Data types\n",
    "String indexing and slicing\n",
    "Data structure\n",
    "List tuple set dictionary methods\n",
    "Conditional stmts if elif else\n",
    "Loops for while for else while else continue pass break\n",
    "Functions inbuilt funtions User functions othe\n",
    "anonymous function / lmabda\n",
    "\n",
    "#Mid level 3 weeks \n",
    "\n",
    "Exception handling\n",
    "Modules/Libraries inbuilt modules/User def\n",
    "Collecions \n",
    "data time \n",
    "os and sys\n",
    "re regular expression\n",
    "File handling\n",
    "\n",
    "\n",
    "#Advanced \n",
    "\n",
    "Oops\n",
    "class and object\n",
    "Inheritance\n",
    "overriding\n",
    "abstract class\n",
    "super class\n",
    "encapsulation\n",
    "Multi threading\n",
    "data base \n",
    "network connectivity django basics"
   ]
  },
  {
   "cell_type": "code",
   "execution_count": null,
   "metadata": {},
   "outputs": [],
   "source": [
    "#programming\n",
    "\n",
    "#python\n",
    "\n",
    "#simple and library rich\n",
    "#AI ml dl \n",
    "\n",
    "\n",
    "#variable ==> Storing value ===> container for stroing value\n",
    "#data type ==>  type of the data (int float string boolean char complex)\n",
    "\n",
    "#data strucutre ===> way to organizing data (primitive, non primitive) List tuple set dictionary\n",
    "#key words  ==> reserved words \n",
    "#operator ==> operating data or process\n",
    "\n",
    "#Arithmetic operator  + - * /  // ** %\n",
    "#comparitive operator  < <=  > >= == != \n",
    "#Assignment operator  = += -= *=\n",
    "#ternary operator single line condition\n",
    "#logical operator  and or not \n",
    "\n",
    "\n",
    "\n",
    "\n",
    "if \n",
    "for \n",
    "class \n",
    "def \n",
    "else \n",
    "\n",
    "\n",
    "creating variables,\n",
    "creating classes \n",
    "creating function"
   ]
  },
  {
   "cell_type": "code",
   "execution_count": null,
   "metadata": {},
   "outputs": [],
   "source": [
    "int a = 10;\n",
    "\n",
    "\n",
    "\n",
    "a = 10"
   ]
  },
  {
   "cell_type": "code",
   "execution_count": 1,
   "metadata": {},
   "outputs": [
    {
     "name": "stdout",
     "output_type": "stream",
     "text": [
      "The total price is  60\n"
     ]
    }
   ],
   "source": [
    "a = 10\n",
    "b = 20.0009\n",
    "c = 30\n",
    "\n",
    "d = \"python\"\n",
    "e = \"Hello\"\n",
    "f = 'values'\n",
    "\n",
    "print(\"The total price is \", a+b+c)"
   ]
  },
  {
   "cell_type": "code",
   "execution_count": null,
   "metadata": {},
   "outputs": [],
   "source": [
    "ticket = {\"name\": \"python\", \"Station_from\":\"Chennai\", \"age\":26, \"station_to\":\"Bangalore\", \"class\":2}"
   ]
  },
  {
   "cell_type": "code",
   "execution_count": 3,
   "metadata": {},
   "outputs": [
    {
     "name": "stdout",
     "output_type": "stream",
     "text": [
      "5\n"
     ]
    }
   ],
   "source": [
    "#ternary operator\n",
    "\n",
    "a = 0\n",
    "\n",
    "b = 5 if a < 1 else 6\n",
    "\n",
    "print(b)"
   ]
  },
  {
   "cell_type": "code",
   "execution_count": null,
   "metadata": {},
   "outputs": [],
   "source": [
    "#+ - * /  // ** %\n",
    "\n",
    "\n",
    "print(9 + 4) #13\n",
    "print(9 * 4) #36\n",
    "print(9 - 4) #5\n",
    "print(9 / 4) #2.25\n",
    "\n",
    "\n",
    "print(7 // 4)\n",
    "print(-7 // 4)\n",
    "print(9 // 4)\n",
    "print(-9 // 4)\n",
    "\n",
    "#modulo \n",
    "print(10%3)    #1\n",
    "print(12 % 5)  #2\n",
    "print(13 % 8 ) #5\n",
    " \n",
    "#power\n",
    "print(2 ** 4)\n",
    "print(3 ** 4)\n",
    "print(8 ** 2)"
   ]
  },
  {
   "cell_type": "code",
   "execution_count": 4,
   "metadata": {},
   "outputs": [
    {
     "name": "stdout",
     "output_type": "stream",
     "text": [
      "13\n",
      "36\n",
      "5\n",
      "2.25\n"
     ]
    }
   ],
   "source": [
    "print(9 + 4) #13\n",
    "print(9 * 4) #36\n",
    "print(9 - 4) #5\n",
    "print(9 / 4) #2.25"
   ]
  },
  {
   "cell_type": "code",
   "execution_count": 5,
   "metadata": {},
   "outputs": [
    {
     "name": "stdout",
     "output_type": "stream",
     "text": [
      "1\n",
      "2\n",
      "5\n"
     ]
    }
   ],
   "source": [
    "#modulo \n",
    "print(10%3)    #1\n",
    "print(12 % 5)  #2\n",
    "print(13 % 8 ) #5"
   ]
  },
  {
   "cell_type": "code",
   "execution_count": 6,
   "metadata": {},
   "outputs": [
    {
     "name": "stdout",
     "output_type": "stream",
     "text": [
      "16\n",
      "81\n",
      "64\n"
     ]
    }
   ],
   "source": [
    "#power\n",
    "print(2 ** 4)\n",
    "print(3 ** 4)\n",
    "print(8 ** 2)"
   ]
  },
  {
   "cell_type": "code",
   "execution_count": null,
   "metadata": {},
   "outputs": [],
   "source": [
    "#floor divison\n",
    "\n",
    "print(7 // 4)\n",
    "print(-7 // 4)\n",
    "print(9 // 4)\n",
    "print(-9 // 4)"
   ]
  }
 ],
 "metadata": {
  "kernelspec": {
   "display_name": "Python 3",
   "language": "python",
   "name": "python3"
  },
  "language_info": {
   "codemirror_mode": {
    "name": "ipython",
    "version": 3
   },
   "file_extension": ".py",
   "mimetype": "text/x-python",
   "name": "python",
   "nbconvert_exporter": "python",
   "pygments_lexer": "ipython3",
   "version": "3.7.6"
  }
 },
 "nbformat": 4,
 "nbformat_minor": 4
}
