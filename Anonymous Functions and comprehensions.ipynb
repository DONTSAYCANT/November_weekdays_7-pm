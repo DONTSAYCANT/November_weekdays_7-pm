{
 "cells": [
  {
   "cell_type": "code",
   "execution_count": null,
   "metadata": {},
   "outputs": [],
   "source": [
    "#Anonymous functions:\n",
    "\n",
    "#function without name or identity\n",
    "\n",
    "#keyword : lambda\n",
    "\n",
    "#Lambda\n",
    "#map  (inbuilt, user def, anon)\n",
    "#filter (inbuilt, user def, anon)\n",
    "#reduce \n",
    "\n",
    "#List comprehension\n",
    "#set comprehension\n",
    "#dictionary comprehension\n",
    "#tuple comprehension (NA *)"
   ]
  },
  {
   "cell_type": "code",
   "execution_count": 1,
   "metadata": {},
   "outputs": [
    {
     "name": "stdout",
     "output_type": "stream",
     "text": [
      "125\n"
     ]
    }
   ],
   "source": [
    "func = lambda a,b: a ** b\n",
    "print(func(5,3))"
   ]
  },
  {
   "cell_type": "code",
   "execution_count": 2,
   "metadata": {},
   "outputs": [
    {
     "name": "stdout",
     "output_type": "stream",
     "text": [
      "125\n"
     ]
    }
   ],
   "source": [
    "def func(a,b):\n",
    "    return a ** b\n",
    "print(func(5,3))"
   ]
  },
  {
   "cell_type": "code",
   "execution_count": 3,
   "metadata": {},
   "outputs": [
    {
     "name": "stdout",
     "output_type": "stream",
     "text": [
      "3125\n"
     ]
    }
   ],
   "source": [
    "func1 = lambda a : a ** 5\n",
    "print(func1(5))"
   ]
  },
  {
   "cell_type": "code",
   "execution_count": null,
   "metadata": {},
   "outputs": [],
   "source": [
    "#map \n",
    "\n",
    "#map with inbuilt function\n",
    "#map with userdef function\n",
    "#map with anonymous function\n",
    "\n",
    "#map ===> inbuilt function\n",
    "\n",
    "#map(function, Datastructure)"
   ]
  },
  {
   "cell_type": "code",
   "execution_count": 4,
   "metadata": {},
   "outputs": [
    {
     "name": "stdout",
     "output_type": "stream",
     "text": [
      "[9, 16, 25, 36, 49, 100]\n"
     ]
    }
   ],
   "source": [
    "Li1 = [3,4,5,6,7,10]\n",
    "\n",
    "Li2 = []\n",
    "\n",
    "for i in Li1:\n",
    "    Li2.append(i**2)\n",
    "    \n",
    "print(Li2)"
   ]
  },
  {
   "cell_type": "code",
   "execution_count": 6,
   "metadata": {},
   "outputs": [
    {
     "name": "stdout",
     "output_type": "stream",
     "text": [
      "[9, 16, 25, 36, 49, 100]\n"
     ]
    }
   ],
   "source": [
    "#map with anon function\n",
    "Li1 = [3,4,5,6,7,10]\n",
    "\n",
    "Li2 = list(map(lambda x: x **2 , Li1))\n",
    "\n",
    "print(Li2)"
   ]
  },
  {
   "cell_type": "code",
   "execution_count": 10,
   "metadata": {},
   "outputs": [
    {
     "name": "stdout",
     "output_type": "stream",
     "text": [
      "['3', '4', '5', '6', '7', '10', '12', '15']\n",
      "[3, 4, 5, 6, 7, 10, 12, 15]\n"
     ]
    }
   ],
   "source": [
    "#map with inbuilt functions\n",
    "\n",
    "input1 = \"3 4 5 6 7 10 12 15\" \n",
    "#[3,4,5,6,7,10,12,15]\n",
    "\n",
    "#split\n",
    "#int conversion\n",
    "#sppend\n",
    "\n",
    "input1 = \"3 4 5 6 7 10 12 15\" \n",
    "Li1 = input1.split()\n",
    "print(Li1)\n",
    "Li2 = []\n",
    "\n",
    "for i in Li1:\n",
    "    Li2.append(int(i))\n",
    "print(Li2)"
   ]
  },
  {
   "cell_type": "code",
   "execution_count": 12,
   "metadata": {},
   "outputs": [
    {
     "name": "stdout",
     "output_type": "stream",
     "text": [
      "[3.0, 4.0, 5.0, 6.0, 7.0, 10.0, 12.0, 15.0]\n"
     ]
    }
   ],
   "source": [
    "input1 = \"3 4 5 6 7 10 12 15\" \n",
    "\n",
    "Li1 = list(map(float, input1.split()))\n",
    "print(Li1)"
   ]
  },
  {
   "cell_type": "code",
   "execution_count": 13,
   "metadata": {},
   "outputs": [
    {
     "name": "stdout",
     "output_type": "stream",
     "text": [
      "[27, 64, 125, 216, 343, 1000, 1728, 3375]\n"
     ]
    }
   ],
   "source": [
    "def cube_function(x):\n",
    "    return int(x) ** 3\n",
    "\n",
    "input1 = \"3 4 5 6 7 10 12 15\" \n",
    "\n",
    "Li1 = list(map(cube_function, input1.split()))\n",
    "print(Li1)"
   ]
  },
  {
   "cell_type": "code",
   "execution_count": 14,
   "metadata": {},
   "outputs": [
    {
     "name": "stdout",
     "output_type": "stream",
     "text": [
      "[4, 6, 8, 10]\n"
     ]
    }
   ],
   "source": [
    "#Filter\n",
    "\n",
    "#Filter \n",
    "\n",
    "Li2 = [3,4,5,6,7,8,10]\n",
    "\n",
    "Li3 = list(filter(lambda x : x % 2 == 0, Li2))\n",
    "\n",
    "print(Li3)\n"
   ]
  },
  {
   "cell_type": "code",
   "execution_count": 15,
   "metadata": {},
   "outputs": [
    {
     "name": "stdout",
     "output_type": "stream",
     "text": [
      "['dad', 'mom', 'abba']\n"
     ]
    }
   ],
   "source": [
    "def func_user(arg1):\n",
    "    return arg1 == arg1[::-1]\n",
    "\n",
    "Li2 = [\"dad\", \"mom\", \"python\", \"java\", \"go\", \"abba\"]\n",
    "\n",
    "Li3 = list(filter(func_user, Li2))\n",
    "\n",
    "print(Li3)"
   ]
  },
  {
   "cell_type": "code",
   "execution_count": 16,
   "metadata": {},
   "outputs": [
    {
     "name": "stdout",
     "output_type": "stream",
     "text": [
      "['dad', 'mom', 'abba']\n"
     ]
    }
   ],
   "source": [
    "Li2 = [\"dad\", \"mom\", \"python\", \"java\", \"go\", \"abba\"]\n",
    "\n",
    "Li3 = list(filter(lambda x : x == x[::-1], Li2))\n",
    "\n",
    "print(Li3)"
   ]
  },
  {
   "cell_type": "code",
   "execution_count": 19,
   "metadata": {},
   "outputs": [
    {
     "name": "stdout",
     "output_type": "stream",
     "text": [
      "504000\n"
     ]
    }
   ],
   "source": [
    "#reduce:\n",
    "\n",
    "from functools import reduce\n",
    "\n",
    "Li1 = [10,20,3,4,5,6,7]\n",
    "\n",
    "output = reduce(lambda x,y: x * y, Li1)\n",
    "\n",
    "print(output)\n",
    "\n",
    "#[10,20,3,4,5,6,7]\n",
    "#[30,3,4,5,6,7]\n",
    "#[33,4,5,6,7]\n",
    "#[37,5,6,7]\n",
    "#[42,6,7]\n",
    "#[48,7]\n",
    "#[55] ==>"
   ]
  },
  {
   "cell_type": "code",
   "execution_count": 20,
   "metadata": {},
   "outputs": [
    {
     "name": "stdout",
     "output_type": "stream",
     "text": [
      "[100, 121, 144, 169, 196, 225, 256]\n"
     ]
    }
   ],
   "source": [
    "#comprehensions:\n",
    "\n",
    "#List comprehension:\n",
    "\n",
    "Li1 = [10,11,12,13,14,15,16]\n",
    "\n",
    "Li2 = []\n",
    "\n",
    "for i in Li1:\n",
    "    Li2.append(i**2)\n",
    "    \n",
    "print(Li2)"
   ]
  },
  {
   "cell_type": "code",
   "execution_count": 21,
   "metadata": {},
   "outputs": [
    {
     "name": "stdout",
     "output_type": "stream",
     "text": [
      "[100, 121, 144, 169, 196, 225, 256]\n"
     ]
    }
   ],
   "source": [
    "#List comprehension\n",
    "Li1 = [10,11,12,13,14,15,16]\n",
    "\n",
    "Li2 = [i ** 2 for i in Li1]\n",
    "print(Li2)"
   ]
  },
  {
   "cell_type": "code",
   "execution_count": 25,
   "metadata": {},
   "outputs": [
    {
     "name": "stdout",
     "output_type": "stream",
     "text": [
      "[100, 11, 144, 13, 196, 15, 256]\n"
     ]
    }
   ],
   "source": [
    "Li1 = [10,11,12,13,14,15,16]\n",
    "\n",
    "Li2 = []\n",
    "\n",
    "for i in Li1:\n",
    "    if i % 2 == 0:\n",
    "        Li2.append(i**2)\n",
    "    else:\n",
    "        Li2.append(i)\n",
    "    \n",
    "print(Li2)"
   ]
  },
  {
   "cell_type": "code",
   "execution_count": 23,
   "metadata": {},
   "outputs": [
    {
     "name": "stdout",
     "output_type": "stream",
     "text": [
      "[100, 144, 196, 256]\n"
     ]
    }
   ],
   "source": [
    "#List comprehension\n",
    "Li1 = [10,11,12,13,14,15,16]\n",
    "\n",
    "Li2 = [i ** 2 for i in Li1 if i % 2 == 0]\n",
    "print(Li2)"
   ]
  },
  {
   "cell_type": "code",
   "execution_count": 24,
   "metadata": {},
   "outputs": [
    {
     "name": "stdout",
     "output_type": "stream",
     "text": [
      "[100, 11, 144, 13, 196, 15, 256]\n"
     ]
    }
   ],
   "source": [
    "#List comprehension\n",
    "Li1 = [10,11,12,13,14,15,16]\n",
    "\n",
    "Li2 = [i ** 2 if i % 2 == 0 else i for i in Li1]\n",
    "print(Li2)"
   ]
  },
  {
   "cell_type": "code",
   "execution_count": 26,
   "metadata": {},
   "outputs": [
    {
     "name": "stdout",
     "output_type": "stream",
     "text": [
      "{256, 225, 100, 196, 169, 144, 121}\n"
     ]
    }
   ],
   "source": [
    "#set comprehension:\n",
    "\n",
    "Li1 = [10,11,12,13,14,15,16]\n",
    "\n",
    "Li2 = {i ** 2 for i in Li1}\n",
    "print(Li2)"
   ]
  },
  {
   "cell_type": "code",
   "execution_count": 27,
   "metadata": {},
   "outputs": [
    {
     "name": "stdout",
     "output_type": "stream",
     "text": [
      "{10: 100, 11: 121, 12: 144, 13: 169, 14: 196, 15: 225, 16: 256}\n"
     ]
    }
   ],
   "source": [
    "#dictionary comprehension\n",
    "\n",
    "Li1 = [10,11,12,13,14,15,16]\n",
    "\n",
    "Li2 = {i:i ** 2 for i in Li1}\n",
    "print(Li2)"
   ]
  },
  {
   "cell_type": "code",
   "execution_count": 30,
   "metadata": {},
   "outputs": [
    {
     "name": "stdout",
     "output_type": "stream",
     "text": [
      "(100, 121, 144, 169, 196, 225, 256)\n"
     ]
    }
   ],
   "source": [
    "#tuple comprehension\n",
    "\n",
    "Li1 = [10,11,12,13,14,15,16]\n",
    "\n",
    "Li2 = tuple(i ** 2 for i in Li1)\n",
    "print(Li2)"
   ]
  },
  {
   "cell_type": "code",
   "execution_count": null,
   "metadata": {},
   "outputs": [],
   "source": [
    "#https://www.geeksforgeeks.org/python-list-comprehension/\n",
    "#https://www.geeksforgeeks.org/python-lambda-anonymous-functions-filter-map-reduce/"
   ]
  }
 ],
 "metadata": {
  "kernelspec": {
   "display_name": "Python 3",
   "language": "python",
   "name": "python3"
  },
  "language_info": {
   "codemirror_mode": {
    "name": "ipython",
    "version": 3
   },
   "file_extension": ".py",
   "mimetype": "text/x-python",
   "name": "python",
   "nbconvert_exporter": "python",
   "pygments_lexer": "ipython3",
   "version": "3.7.6"
  }
 },
 "nbformat": 4,
 "nbformat_minor": 4
}
