{
 "cells": [
  {
   "cell_type": "code",
   "execution_count": 2,
   "metadata": {},
   "outputs": [
    {
     "name": "stdout",
     "output_type": "stream",
     "text": [
      "{3}\n"
     ]
    }
   ],
   "source": [
    "#update\n",
    "\n",
    "a = {3,4,5,6}\n",
    "b = {4,5,6}\n",
    "\n",
    "#storing inside another variable\n",
    "#c = a.difference(b)\n",
    "\n",
    "#storing inside available variable\n",
    "a = a.difference(b)\n",
    "print(a)"
   ]
  },
  {
   "cell_type": "code",
   "execution_count": 7,
   "metadata": {},
   "outputs": [
    {
     "name": "stdout",
     "output_type": "stream",
     "text": [
      "None\n",
      "None\n"
     ]
    }
   ],
   "source": [
    "#update\n",
    "\n",
    "a = {3,4,5,6}\n",
    "b = {4,5,6}\n",
    "\n",
    "#storing inside another variable\n",
    "#a.difference_update(b)\n",
    "print(c)\n",
    "\n",
    "#storing inside available variable\n",
    "a = a.difference_update(b)\n",
    "print(a)"
   ]
  },
  {
   "cell_type": "code",
   "execution_count": 10,
   "metadata": {},
   "outputs": [
    {
     "name": "stdout",
     "output_type": "stream",
     "text": [
      "True\n",
      "True\n",
      "False\n"
     ]
    }
   ],
   "source": [
    "#issubset\n",
    "\n",
    "a = {2,3,4,5,6}\n",
    "b = {4,5,6}\n",
    "c = {1,2,3}\n",
    "\n",
    "print(a.issuperset(b))\n",
    "print(b.issubset(a))\n",
    "print(c.issubset(a))"
   ]
  },
  {
   "cell_type": "code",
   "execution_count": 17,
   "metadata": {},
   "outputs": [
    {
     "name": "stdout",
     "output_type": "stream",
     "text": [
      "a before change [1, 2, 3, 4]\n",
      "x before change [1, 2, 3, 4]\n",
      "a after change [1, 100, 3, -10]\n",
      "x after change [1, 100, 3, -10]\n"
     ]
    }
   ],
   "source": [
    "#shallow copy / Deep copy\n",
    "\n",
    "#shallow copy\n",
    "a = [1,2,3,4]\n",
    "\n",
    "x = a\n",
    "\n",
    "print(\"a before change\", a)\n",
    "print(\"x before change\",x)\n",
    "\n",
    "a[1] = 100\n",
    "x[3] = -10\n",
    "print(\"a after change\",a)\n",
    "print(\"x after change\",x)\n"
   ]
  },
  {
   "cell_type": "code",
   "execution_count": 18,
   "metadata": {},
   "outputs": [
    {
     "name": "stdout",
     "output_type": "stream",
     "text": [
      "a before change [1, 2, 3, 4]\n",
      "x before change [1, 2, 3, 4]\n",
      "a after change [1, 100, 3, 4]\n",
      "x after change [1, 2, 3, -10]\n"
     ]
    }
   ],
   "source": [
    "#Deep copy\n",
    "\n",
    "\n",
    "a = [1,2,3,4]\n",
    "\n",
    "x = a.copy()\n",
    "\n",
    "print(\"a before change\", a)\n",
    "print(\"x before change\",x)\n",
    "\n",
    "a[1] = 100\n",
    "x[3] = -10\n",
    "print(\"a after change\",a)\n",
    "print(\"x after change\",x)"
   ]
  },
  {
   "cell_type": "code",
   "execution_count": null,
   "metadata": {},
   "outputs": [],
   "source": [
    "#https://www.hackerrank.com/\n",
    "\n",
    "#python track"
   ]
  }
 ],
 "metadata": {
  "kernelspec": {
   "display_name": "Python 3",
   "language": "python",
   "name": "python3"
  },
  "language_info": {
   "codemirror_mode": {
    "name": "ipython",
    "version": 3
   },
   "file_extension": ".py",
   "mimetype": "text/x-python",
   "name": "python",
   "nbconvert_exporter": "python",
   "pygments_lexer": "ipython3",
   "version": "3.7.6"
  }
 },
 "nbformat": 4,
 "nbformat_minor": 4
}
