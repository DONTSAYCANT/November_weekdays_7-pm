{
 "cells": [
  {
   "cell_type": "code",
   "execution_count": null,
   "metadata": {},
   "outputs": [],
   "source": [
    "#https://www.w3schools.com/python/python_ref_string.asp"
   ]
  },
  {
   "cell_type": "code",
   "execution_count": null,
   "metadata": {},
   "outputs": [],
   "source": [
    "#operation on string\n",
    "\n",
    "#\"\", ''"
   ]
  },
  {
   "cell_type": "code",
   "execution_count": 1,
   "metadata": {},
   "outputs": [
    {
     "name": "stdout",
     "output_type": "stream",
     "text": [
      "Hello world\n"
     ]
    }
   ],
   "source": [
    "#capitalize\n",
    "\n",
    "a = \"hello world\"\n",
    "b = a.capitalize()\n",
    "\n",
    "print(b)"
   ]
  },
  {
   "cell_type": "code",
   "execution_count": 4,
   "metadata": {},
   "outputs": [
    {
     "name": "stdout",
     "output_type": "stream",
     "text": [
      "HELLO WORLD 5\n"
     ]
    }
   ],
   "source": [
    "#upper\n",
    "\n",
    "a = \"hello world 5\"\n",
    "b = a.upper()\n",
    "\n",
    "print(b)"
   ]
  },
  {
   "cell_type": "code",
   "execution_count": null,
   "metadata": {},
   "outputs": [],
   "source": [
    "#lower\n",
    "\n",
    "a = \"HELLO world\"\n",
    "b = a.lower()\n",
    "\n",
    "print(b)"
   ]
  },
  {
   "cell_type": "code",
   "execution_count": 6,
   "metadata": {},
   "outputs": [
    {
     "name": "stdout",
     "output_type": "stream",
     "text": [
      "True\n",
      "False\n"
     ]
    }
   ],
   "source": [
    "#startswith\n",
    "\n",
    "\n",
    "a = \"hello\"\n",
    "\n",
    "print(a.startswith(\"he\"))\n",
    "print(a.startswith(\"z\"))\n",
    "\n"
   ]
  },
  {
   "cell_type": "code",
   "execution_count": 8,
   "metadata": {},
   "outputs": [
    {
     "name": "stdout",
     "output_type": "stream",
     "text": [
      "False\n",
      "True\n"
     ]
    }
   ],
   "source": [
    "#ends with\n",
    "\n",
    "\n",
    "a = \"hello\"\n",
    "\n",
    "print(a.endswith(\"he\"))\n",
    "print(a.endswith(\"llo\"))\n",
    "\n"
   ]
  },
  {
   "cell_type": "code",
   "execution_count": 10,
   "metadata": {},
   "outputs": [
    {
     "name": "stdout",
     "output_type": "stream",
     "text": [
      "Hello World Vishal\n"
     ]
    }
   ],
   "source": [
    "#title\n",
    "\n",
    "\n",
    "a = \"hello world vishal\"\n",
    "b = a.title()\n",
    "\n",
    "print(b)"
   ]
  },
  {
   "cell_type": "code",
   "execution_count": 11,
   "metadata": {},
   "outputs": [
    {
     "name": "stdout",
     "output_type": "stream",
     "text": [
      "hello WORLD VISHAL\n"
     ]
    }
   ],
   "source": [
    "#swapcase\n",
    "\n",
    "a = \"HELLO world vishal\"\n",
    "b = a.swapcase()\n",
    "\n",
    "print(b)"
   ]
  },
  {
   "cell_type": "code",
   "execution_count": 12,
   "metadata": {},
   "outputs": [
    {
     "name": "stdout",
     "output_type": "stream",
     "text": [
      "welc*m* to python world\n"
     ]
    }
   ],
   "source": [
    "#replace\n",
    "\n",
    "a = \"welcome to python world\"\n",
    "\n",
    "print(a.replace(\"come\",\"c*m*\"))"
   ]
  },
  {
   "cell_type": "code",
   "execution_count": 16,
   "metadata": {},
   "outputs": [
    {
     "name": "stdout",
     "output_type": "stream",
     "text": [
      "5\n",
      "4\n",
      "-1\n",
      "2\n",
      "-1\n"
     ]
    }
   ],
   "source": [
    "#find\n",
    "\n",
    "a = \"pythonnn\"\n",
    "\n",
    "print(a.find(\"n\"))\n",
    "print(a.find(\"o\"))\n",
    "print(a.find(\"z\"))\n",
    "print(a.find(\"tho\"))\n",
    "print(a.find(\"iiii\"))"
   ]
  },
  {
   "cell_type": "code",
   "execution_count": 13,
   "metadata": {},
   "outputs": [
    {
     "name": "stdout",
     "output_type": "stream",
     "text": [
      "5\n",
      "4\n"
     ]
    },
    {
     "ename": "ValueError",
     "evalue": "substring not found",
     "output_type": "error",
     "traceback": [
      "\u001b[1;31m---------------------------------------------------------------------------\u001b[0m",
      "\u001b[1;31mValueError\u001b[0m                                Traceback (most recent call last)",
      "\u001b[1;32m<ipython-input-13-f41f95cb957e>\u001b[0m in \u001b[0;36m<module>\u001b[1;34m\u001b[0m\n\u001b[0;32m      5\u001b[0m \u001b[0mprint\u001b[0m\u001b[1;33m(\u001b[0m\u001b[0ma\u001b[0m\u001b[1;33m.\u001b[0m\u001b[0mindex\u001b[0m\u001b[1;33m(\u001b[0m\u001b[1;34m\"n\"\u001b[0m\u001b[1;33m)\u001b[0m\u001b[1;33m)\u001b[0m\u001b[1;33m\u001b[0m\u001b[1;33m\u001b[0m\u001b[0m\n\u001b[0;32m      6\u001b[0m \u001b[0mprint\u001b[0m\u001b[1;33m(\u001b[0m\u001b[0ma\u001b[0m\u001b[1;33m.\u001b[0m\u001b[0mindex\u001b[0m\u001b[1;33m(\u001b[0m\u001b[1;34m\"o\"\u001b[0m\u001b[1;33m)\u001b[0m\u001b[1;33m)\u001b[0m\u001b[1;33m\u001b[0m\u001b[1;33m\u001b[0m\u001b[0m\n\u001b[1;32m----> 7\u001b[1;33m \u001b[0mprint\u001b[0m\u001b[1;33m(\u001b[0m\u001b[0ma\u001b[0m\u001b[1;33m.\u001b[0m\u001b[0mindex\u001b[0m\u001b[1;33m(\u001b[0m\u001b[1;34m\"z\"\u001b[0m\u001b[1;33m)\u001b[0m\u001b[1;33m)\u001b[0m\u001b[1;33m\u001b[0m\u001b[1;33m\u001b[0m\u001b[0m\n\u001b[0m",
      "\u001b[1;31mValueError\u001b[0m: substring not found"
     ]
    }
   ],
   "source": [
    "#index\n",
    "\n",
    "a = \"pythonnn\"\n",
    "\n",
    "print(a.index(\"n\"))\n",
    "print(a.index(\"o\"))\n",
    "print(a.index(\"z\"))"
   ]
  },
  {
   "cell_type": "code",
   "execution_count": 17,
   "metadata": {},
   "outputs": [
    {
     "name": "stdout",
     "output_type": "stream",
     "text": [
      "3\n"
     ]
    }
   ],
   "source": [
    "#count\n",
    "\n",
    "a = \"pythononon\"\n",
    "\n",
    "print(a.count(\"on\"))"
   ]
  },
  {
   "cell_type": "code",
   "execution_count": 26,
   "metadata": {},
   "outputs": [
    {
     "name": "stdout",
     "output_type": "stream",
     "text": [
      "18\n"
     ]
    }
   ],
   "source": [
    "#len\n",
    "\n",
    "a = \"python      56    \"\n",
    "\n",
    "print(len(a))"
   ]
  },
  {
   "cell_type": "code",
   "execution_count": 23,
   "metadata": {},
   "outputs": [
    {
     "name": "stdout",
     "output_type": "stream",
     "text": [
      "hello     world\n",
      "hello     world***\n",
      "******hello     world\n"
     ]
    }
   ],
   "source": [
    "#strip / lstrip / rstrip\n",
    "\n",
    "a = \"******hello     world***\"\n",
    "print(a.strip(\"*\")) #deault space\n",
    "print(a.lstrip(\"*\"))\n",
    "print(a.rstrip(\"*\"))"
   ]
  },
  {
   "cell_type": "code",
   "execution_count": 25,
   "metadata": {},
   "outputs": [
    {
     "name": "stdout",
     "output_type": "stream",
     "text": [
      "string 1:  hello\n",
      "True\n",
      "True\n",
      "False\n",
      "string 2:  123\n",
      "True\n",
      "False\n",
      "True\n",
      "string 3:  hhehe4444\n",
      "True\n",
      "False\n",
      "False\n"
     ]
    }
   ],
   "source": [
    "#isalpha\n",
    "#isalnum\n",
    "#\n",
    "\n",
    "a = \"hello\"\n",
    "b = \"123\"\n",
    "c = \"hhehe4444\"\n",
    "\n",
    "print(\"string 1: \",a )\n",
    "print(a.isalnum())\n",
    "print(a.isalpha())\n",
    "print(a.isdigit())\n",
    "\n",
    "print(\"string 2: \",b )\n",
    "\n",
    "print(b.isalnum())\n",
    "print(b.isalpha())\n",
    "print(b.isdigit())\n",
    "\n",
    "print(\"string 3: \",c )\n",
    "\n",
    "print(c.isalnum())\n",
    "print(c.isalpha())\n",
    "print(c.isdigit())\n"
   ]
  },
  {
   "cell_type": "code",
   "execution_count": 30,
   "metadata": {},
   "outputs": [
    {
     "name": "stdout",
     "output_type": "stream",
     "text": [
      "830\n",
      "The output of the above operation is  830\n",
      "The output with the values 10 , 20 and 40 is 830\n",
      "The output with the values 10 , 20 and 40 is 830\n"
     ]
    }
   ],
   "source": [
    "#format\n",
    "\n",
    "a = 10\n",
    "b = 20\n",
    "c = 40\n",
    "\n",
    "d = a + b * c + b\n",
    "\n",
    "print(d)\n",
    "print(\"The output of the above operation is \", d)\n",
    "print(\"The output with the values {} , {} and {} is {}\".format(a,b,c,d))\n",
    "\n",
    "print(\"The output with the values {0} , {1} and {2} is {3}\".format(a,b,c,d))"
   ]
  },
  {
   "cell_type": "code",
   "execution_count": 31,
   "metadata": {},
   "outputs": [
    {
     "name": "stdout",
     "output_type": "stream",
     "text": [
      "['hello', 'world', 'welcome', 'to', 'python']\n"
     ]
    }
   ],
   "source": [
    "#split\n",
    "\n",
    "#adv: splitting single string to multiple sub strings\n",
    "\n",
    "#Input: string\n",
    "#output: List\n",
    "\n",
    "a = \"hello world welcome to python\"\n",
    "\n",
    "b = a.split() #default\n",
    "\n",
    "print(b)"
   ]
  },
  {
   "cell_type": "code",
   "execution_count": 32,
   "metadata": {},
   "outputs": [
    {
     "name": "stdout",
     "output_type": "stream",
     "text": [
      "['hello ', ' welcome to python']\n"
     ]
    }
   ],
   "source": [
    "a = \"hello world welcome to python\"\n",
    "\n",
    "b = a.split(\"world\") #default\n",
    "\n",
    "print(b)"
   ]
  },
  {
   "cell_type": "code",
   "execution_count": 33,
   "metadata": {},
   "outputs": [
    {
     "name": "stdout",
     "output_type": "stream",
     "text": [
      "hello_world_welcome_to_python\n"
     ]
    }
   ],
   "source": [
    "#join\n",
    "\n",
    "#adv: joining multiple substrings to a single string\n",
    "\n",
    "#Input: List\n",
    "#output: string\n",
    "\n",
    "a = ['hello', 'world', 'welcome', 'to', 'python']\n",
    "\n",
    "b = \"_\".join(a)\n",
    "print(b)\n",
    "\n",
    "\n"
   ]
  },
  {
   "cell_type": "code",
   "execution_count": 34,
   "metadata": {},
   "outputs": [
    {
     "ename": "TypeError",
     "evalue": "'str' object does not support item assignment",
     "output_type": "error",
     "traceback": [
      "\u001b[1;31m---------------------------------------------------------------------------\u001b[0m",
      "\u001b[1;31mTypeError\u001b[0m                                 Traceback (most recent call last)",
      "\u001b[1;32m<ipython-input-34-3a7e911f866e>\u001b[0m in \u001b[0;36m<module>\u001b[1;34m\u001b[0m\n\u001b[0;32m      3\u001b[0m \u001b[0ma\u001b[0m \u001b[1;33m=\u001b[0m \u001b[1;34m\"python\"\u001b[0m\u001b[1;33m\u001b[0m\u001b[1;33m\u001b[0m\u001b[0m\n\u001b[0;32m      4\u001b[0m \u001b[1;33m\u001b[0m\u001b[0m\n\u001b[1;32m----> 5\u001b[1;33m \u001b[0ma\u001b[0m\u001b[1;33m[\u001b[0m\u001b[1;36m2\u001b[0m\u001b[1;33m]\u001b[0m \u001b[1;33m=\u001b[0m \u001b[1;34m\"z\"\u001b[0m\u001b[1;33m\u001b[0m\u001b[1;33m\u001b[0m\u001b[0m\n\u001b[0m\u001b[0;32m      6\u001b[0m \u001b[1;33m\u001b[0m\u001b[0m\n\u001b[0;32m      7\u001b[0m \u001b[0mprint\u001b[0m\u001b[1;33m(\u001b[0m\u001b[0ma\u001b[0m\u001b[1;33m)\u001b[0m\u001b[1;33m\u001b[0m\u001b[1;33m\u001b[0m\u001b[0m\n",
      "\u001b[1;31mTypeError\u001b[0m: 'str' object does not support item assignment"
     ]
    }
   ],
   "source": [
    "#assignment (not possible in string)\n",
    "\n",
    "a = \"python\"\n",
    "\n",
    "a[2] = \"z\"\n",
    "\n",
    "print(a)"
   ]
  },
  {
   "cell_type": "code",
   "execution_count": null,
   "metadata": {},
   "outputs": [],
   "source": []
  },
  {
   "cell_type": "code",
   "execution_count": null,
   "metadata": {},
   "outputs": [],
   "source": []
  },
  {
   "cell_type": "code",
   "execution_count": null,
   "metadata": {},
   "outputs": [],
   "source": []
  }
 ],
 "metadata": {
  "kernelspec": {
   "display_name": "Python 3",
   "language": "python",
   "name": "python3"
  },
  "language_info": {
   "codemirror_mode": {
    "name": "ipython",
    "version": 3
   },
   "file_extension": ".py",
   "mimetype": "text/x-python",
   "name": "python",
   "nbconvert_exporter": "python",
   "pygments_lexer": "ipython3",
   "version": "3.7.6"
  }
 },
 "nbformat": 4,
 "nbformat_minor": 4
}
