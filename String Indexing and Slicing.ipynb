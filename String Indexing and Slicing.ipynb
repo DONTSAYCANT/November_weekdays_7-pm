{
 "cells": [
  {
   "cell_type": "code",
   "execution_count": null,
   "metadata": {},
   "outputs": [],
   "source": [
    "#string\n",
    "\n",
    "#\"\" ' '\n",
    "#Collection of chars\n",
    "\n",
    "#\"python\" ==> \"p\" \"y\" \"t\" \"h\" \"o\" \"n\""
   ]
  },
  {
   "cell_type": "code",
   "execution_count": 2,
   "metadata": {},
   "outputs": [
    {
     "name": "stdout",
     "output_type": "stream",
     "text": [
      "hello\n",
      "Hi\n",
      "hi\n"
     ]
    }
   ],
   "source": [
    "print(\"hello\")\n",
    "print(\"Hi\")\n",
    "print('hi')"
   ]
  },
  {
   "cell_type": "code",
   "execution_count": 3,
   "metadata": {},
   "outputs": [
    {
     "name": "stdout",
     "output_type": "stream",
     "text": [
      " Hi welcome to python\n",
      "This session is part for string\n",
      "and its related indexing concepts\n",
      "\n"
     ]
    }
   ],
   "source": [
    "print(\"\"\" Hi welcome to python\n",
    "This session is part for string\n",
    "and its related indexing concepts\n",
    "\"\"\")"
   ]
  },
  {
   "cell_type": "code",
   "execution_count": 4,
   "metadata": {},
   "outputs": [
    {
     "name": "stdout",
     "output_type": "stream",
     "text": [
      " Hi welcome to python\n",
      "This session is part for string\n",
      "and its related indexing concepts\n",
      "\n"
     ]
    }
   ],
   "source": [
    "print(''' Hi welcome to python\n",
    "This session is part for string\n",
    "and its related indexing concepts\n",
    "''')"
   ]
  },
  {
   "cell_type": "code",
   "execution_count": null,
   "metadata": {},
   "outputs": [],
   "source": [
    "#Indexing\n",
    "#Forward indexing\n",
    "#reverse indexing\n",
    "\n",
    "\n",
    "\n",
    "a = \"python\"\n",
    "\n",
    "print(a[0])\n",
    "print(a[-1])\n",
    "print(a[2])\n",
    "print(a[-3])"
   ]
  },
  {
   "cell_type": "code",
   "execution_count": null,
   "metadata": {},
   "outputs": [],
   "source": [
    "#Braces in python\n",
    "\n",
    "() ==> function call purpose\n",
    "\n",
    "[] ===> Indexing purpose"
   ]
  },
  {
   "cell_type": "code",
   "execution_count": 5,
   "metadata": {},
   "outputs": [
    {
     "name": "stdout",
     "output_type": "stream",
     "text": [
      "c\n",
      "e\n",
      "t\n",
      "i\n",
      "p\n",
      "n\n",
      "o\n",
      "c\n",
      "e\n"
     ]
    },
    {
     "ename": "IndexError",
     "evalue": "string index out of range",
     "output_type": "error",
     "traceback": [
      "\u001b[1;31m---------------------------------------------------------------------------\u001b[0m",
      "\u001b[1;31mIndexError\u001b[0m                                Traceback (most recent call last)",
      "\u001b[1;32m<ipython-input-5-6dd76f838058>\u001b[0m in \u001b[0;36m<module>\u001b[1;34m\u001b[0m\n\u001b[0;32m     10\u001b[0m \u001b[0mprint\u001b[0m\u001b[1;33m(\u001b[0m\u001b[0ma\u001b[0m\u001b[1;33m[\u001b[0m\u001b[1;36m0\u001b[0m\u001b[1;33m]\u001b[0m\u001b[1;33m)\u001b[0m\u001b[1;33m\u001b[0m\u001b[1;33m\u001b[0m\u001b[0m\n\u001b[0;32m     11\u001b[0m \u001b[0mprint\u001b[0m\u001b[1;33m(\u001b[0m\u001b[0ma\u001b[0m\u001b[1;33m[\u001b[0m\u001b[1;33m-\u001b[0m\u001b[1;36m1\u001b[0m\u001b[1;33m]\u001b[0m\u001b[1;33m)\u001b[0m\u001b[1;33m\u001b[0m\u001b[1;33m\u001b[0m\u001b[0m\n\u001b[1;32m---> 12\u001b[1;33m \u001b[0mprint\u001b[0m\u001b[1;33m(\u001b[0m\u001b[0ma\u001b[0m\u001b[1;33m[\u001b[0m\u001b[1;36m29\u001b[0m\u001b[1;33m]\u001b[0m\u001b[1;33m)\u001b[0m\u001b[1;33m\u001b[0m\u001b[1;33m\u001b[0m\u001b[0m\n\u001b[0m",
      "\u001b[1;31mIndexError\u001b[0m: string index out of range"
     ]
    }
   ],
   "source": [
    "a = \"computer_science\"\n",
    "\n",
    "print(a[10]) \n",
    "print(a[-10])\n",
    "print(a[5])\n",
    "print(a[-5])\n",
    "print(a[3])\n",
    "print(a[-3])\n",
    "print(a[1])\n",
    "print(a[0])\n",
    "print(a[-1])\n",
    "print(a[29])"
   ]
  },
  {
   "cell_type": "code",
   "execution_count": null,
   "metadata": {},
   "outputs": [],
   "source": [
    "a = \"information_technology_science_world\"\n",
    "\n",
    "#g\n",
    "#y\n",
    "#s\n",
    "#w\n",
    "#_\n",
    "#_"
   ]
  },
  {
   "cell_type": "code",
   "execution_count": 15,
   "metadata": {},
   "outputs": [
    {
     "name": "stdout",
     "output_type": "stream",
     "text": [
      "g\n",
      "g\n",
      "y\n",
      "y\n",
      "s\n",
      "s\n",
      "w\n",
      "w\n",
      "_\n",
      "_\n",
      "_\n",
      "_\n",
      "_\n",
      "_\n"
     ]
    }
   ],
   "source": [
    "a = \"information_technology_science_world\"\n",
    "print(a[20])\n",
    "print(a[-16])\n",
    "print(a[21])\n",
    "print(a[-15])\n",
    "print(a[23])\n",
    "print(a[-13])\n",
    "print(a[31])\n",
    "print(a[-5])\n",
    "print(a[22])\n",
    "print(a[-14])\n",
    "print(a[30])\n",
    "print(a[-6])\n",
    "print(a[11])\n",
    "print(a[-25])"
   ]
  },
  {
   "cell_type": "markdown",
   "metadata": {},
   "source": [
    "## String Slicing "
   ]
  },
  {
   "cell_type": "code",
   "execution_count": null,
   "metadata": {},
   "outputs": [],
   "source": [
    "#Indexing ==> extracting one character\n",
    "\n",
    "#slicing ==> extracting a substring from main string"
   ]
  },
  {
   "cell_type": "markdown",
   "metadata": {},
   "source": [
    "### Type 1"
   ]
  },
  {
   "cell_type": "code",
   "execution_count": 3,
   "metadata": {},
   "outputs": [
    {
     "name": "stdout",
     "output_type": "stream",
     "text": [
      "mpu\n",
      "omput\n",
      "omputer_s\n",
      "ien\n",
      "compu\n",
      "ter_science\n",
      "computer_science\n",
      "\n"
     ]
    }
   ],
   "source": [
    "a = \"computer_science\"\n",
    "\n",
    "print(a[2:5])\n",
    "print(a[-15:-10])\n",
    "print(a[1:10])\n",
    "print(a[-5:-2])\n",
    "print(a[:5])\n",
    "print(a[5:])\n",
    "print(a[:]) #print(a)\n",
    "\n",
    "print(a[10:5]) #empty\n",
    "\n",
    "#[starting_index (including): ending index (excluding): index interval (optional, default= 1) ]"
   ]
  },
  {
   "cell_type": "code",
   "execution_count": null,
   "metadata": {},
   "outputs": [],
   "source": [
    "mpu\n",
    "omput\n",
    "omputer_s\n",
    "ien\n",
    "compu\n",
    "ter_science\n",
    "computer_science\n",
    "\n",
    "empty\n",
    "\n"
   ]
  },
  {
   "cell_type": "markdown",
   "metadata": {},
   "source": [
    "## Type2"
   ]
  },
  {
   "cell_type": "code",
   "execution_count": 4,
   "metadata": {},
   "outputs": [
    {
     "name": "stdout",
     "output_type": "stream",
     "text": [
      "cienc\n",
      "cienc\n",
      "cec\n",
      "cn\n",
      "t_\n",
      "cmue_\n",
      "tce\n",
      "ctce\n"
     ]
    }
   ],
   "source": [
    "a = \"computer_science\"\n",
    "\n",
    "print(a[10:15])\n",
    "print(a[10:15:1])\n",
    "print(a[10:15:2])\n",
    "print(a[10:15:3])\n",
    "\n",
    "print(a[5:-5:3])\n",
    "print(a[:10:2])\n",
    "print(a[5::5])\n",
    "print(a[::5])"
   ]
  },
  {
   "cell_type": "code",
   "execution_count": null,
   "metadata": {},
   "outputs": [],
   "source": [
    "cienc\n",
    "cienc\n",
    "cec\n",
    "cn\n",
    "\n",
    "\n",
    "t_\n",
    "cmue_\n",
    "tce\n",
    "ctce\n"
   ]
  },
  {
   "cell_type": "code",
   "execution_count": null,
   "metadata": {},
   "outputs": [],
   "source": [
    "#Task:\n",
    "\n",
    "a = \"Information_technology\"\n",
    "\n",
    "print(a[10:15])\n",
    "print(a[5:15])\n",
    "print(a[10:])\n",
    "print(a[-15:-20])\n",
    "print(a[-20:-15])\n",
    "print(a[-3:-5])\n",
    "print(a[::2])\n",
    "print(a[10:17:2])\n",
    "print(a[10:100:2])\n",
    "print(a[-20:-15:3])\n",
    "print(a[10:20:10])\n",
    "print(a[-20:-2:5])\n",
    "\n"
   ]
  },
  {
   "cell_type": "markdown",
   "metadata": {},
   "source": [
    "## Type 3"
   ]
  },
  {
   "cell_type": "code",
   "execution_count": 1,
   "metadata": {},
   "outputs": [
    {
     "name": "stdout",
     "output_type": "stream",
     "text": [
      "pese\n",
      "\n",
      "\n",
      "ncru\n"
     ]
    }
   ],
   "source": [
    "a = \"computer_science\"\n",
    "\n",
    "print(a[3:-3:3])\n",
    "print(a[3:-3:-3])\n",
    "print(a[-3:3:3])\n",
    "print(a[-3:3:-3])"
   ]
  },
  {
   "cell_type": "code",
   "execution_count": null,
   "metadata": {},
   "outputs": [],
   "source": [
    "pese\n",
    "empty\n",
    "empty\n",
    "ncru\n"
   ]
  },
  {
   "cell_type": "code",
   "execution_count": 2,
   "metadata": {},
   "outputs": [
    {
     "name": "stdout",
     "output_type": "stream",
     "text": [
      "tc\n",
      "\n",
      "\n",
      "ie\n"
     ]
    }
   ],
   "source": [
    "print(a[5:-5:5])\n",
    "print(a[5:-5:-5])\n",
    "print(a[-5:5:5])\n",
    "print(a[-5:5:-5])"
   ]
  },
  {
   "cell_type": "code",
   "execution_count": null,
   "metadata": {},
   "outputs": [],
   "source": [
    "tc\n",
    "empty\n",
    "empty\n",
    "ie\n"
   ]
  },
  {
   "cell_type": "code",
   "execution_count": 3,
   "metadata": {},
   "outputs": [
    {
     "name": "stdout",
     "output_type": "stream",
     "text": [
      "<class 'str'>\n"
     ]
    }
   ],
   "source": [
    "print(type(a[5:-5:-5]))"
   ]
  },
  {
   "cell_type": "code",
   "execution_count": 4,
   "metadata": {},
   "outputs": [
    {
     "name": "stdout",
     "output_type": "stream",
     "text": [
      "0\n"
     ]
    }
   ],
   "source": [
    "print(len(a[5:-5:-5]))"
   ]
  },
  {
   "cell_type": "code",
   "execution_count": 5,
   "metadata": {},
   "outputs": [
    {
     "name": "stdout",
     "output_type": "stream",
     "text": [
      "our\n",
      "\n",
      "cru\n",
      "\n"
     ]
    }
   ],
   "source": [
    "print(a[1:10:3])\n",
    "print(a[10:1:3])\n",
    "print(a[10:1:-3])\n",
    "print(a[1:10:-3])\n"
   ]
  },
  {
   "cell_type": "code",
   "execution_count": null,
   "metadata": {},
   "outputs": [],
   "source": [
    "#Type 4 and Type 5\n",
    "\n",
    "a = \"computer_science\"\n",
    "\n",
    "#type 4\n",
    "print(a[:10:5])\n",
    "print(a[:10:-5])\n",
    "print(a[5::5])\n",
    "print(a[5::-5])\n",
    "\n",
    "print(a[:-10:5])\n",
    "print(a[:-10:-5])\n",
    "print(a[-5::5])\n",
    "print(a[-5::-5])\n",
    "\n",
    "#type 5\n",
    "print(a[::1])\n",
    "print(a[::2])\n",
    "print(a[::3])\n",
    "print(a[::-1])\n",
    "print(a[::-2])\n",
    "print(a[::-3])\n",
    "\n"
   ]
  },
  {
   "cell_type": "code",
   "execution_count": 6,
   "metadata": {},
   "outputs": [
    {
     "name": "stdout",
     "output_type": "stream",
     "text": [
      "ct\n",
      "e\n",
      "tce\n",
      "tc\n",
      "ct\n",
      "ec\n",
      "i\n",
      "ieo\n"
     ]
    }
   ],
   "source": [
    "#type 4\n",
    "print(a[:10:5])\n",
    "print(a[:10:-5])\n",
    "print(a[5::5])\n",
    "print(a[5::-5])\n",
    "\n",
    "print(a[:-10:5])\n",
    "print(a[:-10:-5])\n",
    "print(a[-5::5])\n",
    "print(a[-5::-5])"
   ]
  },
  {
   "cell_type": "code",
   "execution_count": null,
   "metadata": {},
   "outputs": [],
   "source": [
    "ct\n",
    "e\n",
    "tce\n",
    "tc\n",
    "\n",
    "ct\n",
    "ec\n",
    "i\n",
    "ieo\n"
   ]
  }
 ],
 "metadata": {
  "kernelspec": {
   "display_name": "Python 3",
   "language": "python",
   "name": "python3"
  },
  "language_info": {
   "codemirror_mode": {
    "name": "ipython",
    "version": 3
   },
   "file_extension": ".py",
   "mimetype": "text/x-python",
   "name": "python",
   "nbconvert_exporter": "python",
   "pygments_lexer": "ipython3",
   "version": "3.7.6"
  }
 },
 "nbformat": 4,
 "nbformat_minor": 4
}
