{
 "cells": [
  {
   "cell_type": "code",
   "execution_count": null,
   "metadata": {},
   "outputs": [],
   "source": [
    "#OOP\n",
    "#geeksforgeeks.org/python-oops-concepts/\n",
    "\n",
    "#object oriented programming\n",
    "#advantages of object oriented programming\n",
    "#class and object\n",
    "#attribute / method / class/object attribute and method\n",
    "#self\n",
    "#Constructor\n",
    "#Destructor\n",
    "#class method vs static method vs normal method\n",
    "\n",
    "\n",
    "\n",
    "#Inheritance and its types\n",
    "#abstract method abstract class\n",
    "#method overriding \n",
    "#Diamond shape probelm\n",
    "#super function\n",
    "#encapsulation\n",
    "#polymorphism\n",
    "\n"
   ]
  },
  {
   "cell_type": "code",
   "execution_count": null,
   "metadata": {},
   "outputs": [],
   "source": [
    "#Object oriented programming\n",
    "#Functional programming (structural programming)\n",
    "#Applications / Advantages\n",
    "\n",
    "\n",
    "#extra functionalities or advantages"
   ]
  },
  {
   "cell_type": "code",
   "execution_count": null,
   "metadata": {},
   "outputs": [],
   "source": [
    "#class and object attribute method\n",
    "\n",
    "\n",
    "#class   Blueprint for any system / environment / object\n",
    "#object  Instantiation of the class or instant of class\n",
    "\n",
    "\n",
    "#KVS higher sec school admission\n",
    "\n",
    "#Admission form ==> class\n",
    "\n",
    "#Student name  age   dOB  mark  TC birth certi\n",
    "\n",
    "#student 1  (rrrrr,  26, 18/04/1995 465 .....   ....)  ===> object 1\n",
    "#student 2  (mmm, 27, 20/10/1994 455 .....   ....)     ===> object 2\n",
    "#student 3                                             ====> object 3\n",
    "\n",
    "\n",
    "1 class   ===> infinite objects  \n",
    "\n",
    "\n",
    "\n",
    "\n",
    "#IRCTC ==> website\n",
    "\n",
    "\n",
    "\n",
    "#class irctc:\n",
    "\n",
    "\n",
    "#passenger 1 ==> object 1\n",
    "\n",
    "\n",
    "#attribute  ==> variable inside class\n",
    " \n",
    "#Method  ===> function inside class\n",
    "\n",
    "\n"
   ]
  },
  {
   "cell_type": "code",
   "execution_count": null,
   "metadata": {},
   "outputs": [],
   "source": [
    "class IRCTC_RAILWAY_TICKET_BOOKING:\n",
    "    train_dep = \"southern railway\"\n",
    "    train_name = \"mysuru express\"\n",
    "    train number = \"12696\"\n",
    "    \n",
    "    def book_ticker():\n",
    "        ......\n",
    "        \n",
    "    def cancel_ticket():\n",
    "        ......\n",
    "        \n",
    "    def tatkal_booking():\n",
    "        .....\n",
    "        \n",
    "    def ticket_offers():\n",
    "        .....\n",
    "        \n",
    "\n",
    "passenger1 = IRCTC_RAILWAY_TICKET_BOOKING(\"ravi\", \"26\", \"18041995\", \"madurai\", \"bangalore\", \"karur\")\n",
    "\n",
    "passenger2 = IRCTC_RAILWAY_TICKET_BOOKING(\"gokul\", \"18\", \"1888\", \"tuti\", \"mysurur\", \"kvl\")\n",
    "\n",
    "passenger3 = IRCTC_RAILWAY_TICKET_BOOKING(......)\n",
    "\n",
    "\n",
    "#class : IRCTC_RAILWAY_TICKET_BOOKING\n",
    "\n",
    "#blueprint\n",
    "#Combination of attributes and methods\n",
    "\n",
    "#objecT:\n",
    "passenger1\n",
    "passenger2\n",
    "passenger3\n",
    "\n",
    "#class atribute\n",
    "#object attribute\n",
    "\n",
    "\n",
    "\n"
   ]
  },
  {
   "cell_type": "code",
   "execution_count": null,
   "metadata": {},
   "outputs": [],
   "source": [
    "#class attribute / object attribute\n",
    "\n",
    "#how to create an empty class\n",
    "\n",
    "class Admission:\n",
    "    pass\n",
    "\n",
    "std1 = Admission()\n",
    "std2 = Admission()\n",
    "\n",
    "\n"
   ]
  },
  {
   "cell_type": "code",
   "execution_count": 5,
   "metadata": {},
   "outputs": [
    {
     "name": "stdout",
     "output_type": "stream",
     "text": [
      "KVS high school\n",
      "KVS high school\n",
      "Tuti\n",
      "Tuti\n",
      "KVS high school\n"
     ]
    }
   ],
   "source": [
    "#class attribute\n",
    "\n",
    "class Admission:\n",
    "    school_name = \"KVS high school\"\n",
    "    city = \"Tuti\"\n",
    "    \n",
    "\n",
    "std1 = Admission()\n",
    "std2 = Admission()\n",
    "\n",
    "print(std1.school_name)\n",
    "print(std2.school_name)\n",
    "print(std1.city)\n",
    "print(std2.city)\n",
    "\n",
    "\n",
    "print(Admission.school_name)\n",
    "#class attribute ==> constant throughout the class\n",
    "#Object attribute ===> it will change for each every object\n",
    "\n",
    "\n"
   ]
  },
  {
   "cell_type": "code",
   "execution_count": 1,
   "metadata": {},
   "outputs": [
    {
     "name": "stdout",
     "output_type": "stream",
     "text": [
      "10\n"
     ]
    }
   ],
   "source": [
    "a = 10\n",
    "\n",
    "print(a)"
   ]
  },
  {
   "cell_type": "code",
   "execution_count": 8,
   "metadata": {},
   "outputs": [
    {
     "name": "stdout",
     "output_type": "stream",
     "text": [
      "KVS high school\n",
      "KPP high school\n",
      "Kanyakumari\n",
      "Kanyakumari\n"
     ]
    }
   ],
   "source": [
    "#How to change class attribute\n",
    "\n",
    "#class attribute\n",
    "\n",
    "class Admission:\n",
    "    school_name = \"KVS high school\"\n",
    "    city = \"Tuti\"\n",
    "    \n",
    "\n",
    "std1 = Admission()\n",
    "std2 = Admission()\n",
    "\n",
    "\n",
    "std2.school_name = \"KPP high school\" #Object attribute\n",
    "\n",
    "Admission.city = \"Kanyakumari\" #class attribute\n",
    "\n",
    "print(std1.school_name)\n",
    "print(std2.school_name)\n",
    "print(std1.city)\n",
    "print(std2.city)\n",
    "\n"
   ]
  },
  {
   "cell_type": "code",
   "execution_count": null,
   "metadata": {},
   "outputs": [],
   "source": [
    "std1 = Admission(\"Ram\", \"1217137\", \"20\", \"Xii\")\n",
    "std2 = Admission()"
   ]
  },
  {
   "cell_type": "code",
   "execution_count": 19,
   "metadata": {},
   "outputs": [
    {
     "name": "stdout",
     "output_type": "stream",
     "text": [
      "KVS high school\n",
      "<__main__.Admission object at 0x00000201B6304D08>\n",
      "Kavery hostel allocated\n",
      "<__main__.Admission object at 0x00000201B6304D08>\n",
      "Kavery hostel allocated\n",
      "<__main__.Admission object at 0x00000201B6304EC8>\n",
      "Its based on marks400school name isKVS high school\n"
     ]
    }
   ],
   "source": [
    "class Admission:\n",
    "    school_name = \"KVS high school\"\n",
    "    city = \"Tuti\"\n",
    "\n",
    "    def Hostel_allocation(self):\n",
    "        print(self)\n",
    "        return \"Kavery hostel allocated\"\n",
    "    \n",
    "    def group_selection(self, mark):\n",
    "        print(self)\n",
    "        return \"Its based on marks\" + str(mark) + \"school name is\"+  self.school_name\n",
    "\n",
    "std1 = Admission()\n",
    "std2 = Admission()\n",
    "\n",
    "print(std1.school_name)\n",
    "\n",
    "#How to call a method in a class\n",
    "\n",
    "print(std1.Hostel_allocation())\n",
    "\n",
    "print(Admission.Hostel_allocation(std1)) #traditional way\n",
    "\n",
    "print(std2.group_selection(400))\n",
    "#self\n"
   ]
  },
  {
   "cell_type": "code",
   "execution_count": 14,
   "metadata": {},
   "outputs": [
    {
     "ename": "TypeError",
     "evalue": "func1() takes 0 positional arguments but 1 was given",
     "output_type": "error",
     "traceback": [
      "\u001b[1;31m---------------------------------------------------------------------------\u001b[0m",
      "\u001b[1;31mTypeError\u001b[0m                                 Traceback (most recent call last)",
      "\u001b[1;32m<ipython-input-14-10ccd8a0218e>\u001b[0m in \u001b[0;36m<module>\u001b[1;34m\u001b[0m\n\u001b[0;32m      2\u001b[0m     \u001b[1;32mreturn\u001b[0m \u001b[1;34m\"function call check\"\u001b[0m\u001b[1;33m\u001b[0m\u001b[1;33m\u001b[0m\u001b[0m\n\u001b[0;32m      3\u001b[0m \u001b[1;33m\u001b[0m\u001b[0m\n\u001b[1;32m----> 4\u001b[1;33m \u001b[0mprint\u001b[0m\u001b[1;33m(\u001b[0m\u001b[0mfunc1\u001b[0m\u001b[1;33m(\u001b[0m\u001b[1;34m\"kkkkk\"\u001b[0m\u001b[1;33m)\u001b[0m\u001b[1;33m)\u001b[0m\u001b[1;33m\u001b[0m\u001b[1;33m\u001b[0m\u001b[0m\n\u001b[0m",
      "\u001b[1;31mTypeError\u001b[0m: func1() takes 0 positional arguments but 1 was given"
     ]
    }
   ],
   "source": [
    "def func1():\n",
    "    return \"function call check\"\n",
    "\n",
    "print(func1(\"kkkkk\"))"
   ]
  },
  {
   "cell_type": "code",
   "execution_count": 26,
   "metadata": {},
   "outputs": [
    {
     "name": "stdout",
     "output_type": "stream",
     "text": [
      "Kaveri hostel\n",
      "Tapti hostel\n",
      "Commerce group\n"
     ]
    }
   ],
   "source": [
    "#constructor / Destructor\n",
    "\n",
    "class Admission:\n",
    "    school_name = \"KVS high school\"\n",
    "    city = \"Tuti\"\n",
    "\n",
    "    def Hostel_allocation(self, marks):\n",
    "        self.marks = marks\n",
    "        if marks > 400:\n",
    "            return \"Kaveri hostel\"\n",
    "        elif marks > 350:\n",
    "            return \"Krishna hostel\"\n",
    "        else:\n",
    "            return \"Tapti hostel\"\n",
    "    \n",
    "    def group_selection(self):\n",
    "        if self.marks > 400:\n",
    "            return \"Pure science group\"\n",
    "        elif self.marks > 350:\n",
    "            return \"Bio math group\"\n",
    "        elif self.marks > 300:\n",
    "            return \"Computer science group\"\n",
    "        else:\n",
    "            return \"Commerce group\"\n",
    "\n",
    "std1 = Admission()\n",
    "std2 = Admission()\n",
    "\n",
    "print(std1.Hostel_allocation(475))\n",
    "print(std1.Hostel_allocation(275))\n",
    "print(std1.group_selection())\n",
    "\n",
    "\n"
   ]
  },
  {
   "cell_type": "code",
   "execution_count": 27,
   "metadata": {},
   "outputs": [
    {
     "name": "stdout",
     "output_type": "stream",
     "text": [
      "Kaveri hostel\n",
      "Tapti hostel\n",
      "Commerce group\n"
     ]
    },
    {
     "ename": "AttributeError",
     "evalue": "'Admission' object has no attribute 'marks'",
     "output_type": "error",
     "traceback": [
      "\u001b[1;31m---------------------------------------------------------------------------\u001b[0m",
      "\u001b[1;31mAttributeError\u001b[0m                            Traceback (most recent call last)",
      "\u001b[1;32m<ipython-input-27-901b28e8a7c9>\u001b[0m in \u001b[0;36m<module>\u001b[1;34m\u001b[0m\n\u001b[0;32m     29\u001b[0m \u001b[0mprint\u001b[0m\u001b[1;33m(\u001b[0m\u001b[0mstd1\u001b[0m\u001b[1;33m.\u001b[0m\u001b[0mHostel_allocation\u001b[0m\u001b[1;33m(\u001b[0m\u001b[1;36m275\u001b[0m\u001b[1;33m)\u001b[0m\u001b[1;33m)\u001b[0m\u001b[1;33m\u001b[0m\u001b[1;33m\u001b[0m\u001b[0m\n\u001b[0;32m     30\u001b[0m \u001b[0mprint\u001b[0m\u001b[1;33m(\u001b[0m\u001b[0mstd1\u001b[0m\u001b[1;33m.\u001b[0m\u001b[0mgroup_selection\u001b[0m\u001b[1;33m(\u001b[0m\u001b[1;33m)\u001b[0m\u001b[1;33m)\u001b[0m\u001b[1;33m\u001b[0m\u001b[1;33m\u001b[0m\u001b[0m\n\u001b[1;32m---> 31\u001b[1;33m \u001b[0mprint\u001b[0m\u001b[1;33m(\u001b[0m\u001b[0mstd3\u001b[0m\u001b[1;33m.\u001b[0m\u001b[0mgroup_selection\u001b[0m\u001b[1;33m(\u001b[0m\u001b[1;33m)\u001b[0m\u001b[1;33m)\u001b[0m\u001b[1;33m\u001b[0m\u001b[1;33m\u001b[0m\u001b[0m\n\u001b[0m",
      "\u001b[1;32m<ipython-input-27-901b28e8a7c9>\u001b[0m in \u001b[0;36mgroup_selection\u001b[1;34m(self)\u001b[0m\n\u001b[0;32m     13\u001b[0m \u001b[1;33m\u001b[0m\u001b[0m\n\u001b[0;32m     14\u001b[0m     \u001b[1;32mdef\u001b[0m \u001b[0mgroup_selection\u001b[0m\u001b[1;33m(\u001b[0m\u001b[0mself\u001b[0m\u001b[1;33m)\u001b[0m\u001b[1;33m:\u001b[0m\u001b[1;33m\u001b[0m\u001b[1;33m\u001b[0m\u001b[0m\n\u001b[1;32m---> 15\u001b[1;33m         \u001b[1;32mif\u001b[0m \u001b[0mself\u001b[0m\u001b[1;33m.\u001b[0m\u001b[0mmarks\u001b[0m \u001b[1;33m>\u001b[0m \u001b[1;36m400\u001b[0m\u001b[1;33m:\u001b[0m\u001b[1;33m\u001b[0m\u001b[1;33m\u001b[0m\u001b[0m\n\u001b[0m\u001b[0;32m     16\u001b[0m             \u001b[1;32mreturn\u001b[0m \u001b[1;34m\"Pure science group\"\u001b[0m\u001b[1;33m\u001b[0m\u001b[1;33m\u001b[0m\u001b[0m\n\u001b[0;32m     17\u001b[0m         \u001b[1;32melif\u001b[0m \u001b[0mself\u001b[0m\u001b[1;33m.\u001b[0m\u001b[0mmarks\u001b[0m \u001b[1;33m>\u001b[0m \u001b[1;36m350\u001b[0m\u001b[1;33m:\u001b[0m\u001b[1;33m\u001b[0m\u001b[1;33m\u001b[0m\u001b[0m\n",
      "\u001b[1;31mAttributeError\u001b[0m: 'Admission' object has no attribute 'marks'"
     ]
    }
   ],
   "source": [
    "class Admission:\n",
    "    school_name = \"KVS high school\"\n",
    "    city = \"Tuti\"\n",
    "\n",
    "    def Hostel_allocation(self, marks):\n",
    "        self.marks = marks\n",
    "        if marks > 400:\n",
    "            return \"Kaveri hostel\"\n",
    "        elif marks > 350:\n",
    "            return \"Krishna hostel\"\n",
    "        else:\n",
    "            return \"Tapti hostel\"\n",
    "    \n",
    "    def group_selection(self):\n",
    "        if self.marks > 400:\n",
    "            return \"Pure science group\"\n",
    "        elif self.marks > 350:\n",
    "            return \"Bio math group\"\n",
    "        elif self.marks > 300:\n",
    "            return \"Computer science group\"\n",
    "        else:\n",
    "            return \"Commerce group\"\n",
    "\n",
    "std1 = Admission()\n",
    "std2 = Admission()\n",
    "std3 = Admission()\n",
    "\n",
    "print(std1.Hostel_allocation(475))\n",
    "print(std1.Hostel_allocation(275))\n",
    "print(std1.group_selection())\n",
    "print(std3.group_selection())\n"
   ]
  },
  {
   "cell_type": "code",
   "execution_count": 34,
   "metadata": {},
   "outputs": [
    {
     "name": "stdout",
     "output_type": "stream",
     "text": [
      "Kaveri hostel\n",
      "Kaveri hostel\n",
      "Pure science group\n",
      "Commerce group\n",
      "Admission process is done, Welcome to our school\n"
     ]
    }
   ],
   "source": [
    "#Constructor\n",
    "\n",
    "class Admission:\n",
    "    school_name = \"KVS high school\"\n",
    "    city = \"Tuti\"\n",
    "    \n",
    "    def __init__(self, name, marks): #constructor\n",
    "        self.marks = marks\n",
    "        self.name = name\n",
    "\n",
    "    def Hostel_allocation(self):\n",
    "        if self.marks > 400:\n",
    "            return \"Kaveri hostel\"\n",
    "        elif self.marks > 350:\n",
    "            return \"Krishna hostel\"\n",
    "        else:\n",
    "            return \"Tapti hostel\"\n",
    "    \n",
    "    def group_selection(self):\n",
    "        if self.marks > 400:\n",
    "            return \"Pure science group\"\n",
    "        elif self.marks > 350:\n",
    "            return \"Bio math group\"\n",
    "        elif self.marks > 300:\n",
    "            return \"Computer science group\"\n",
    "        else:\n",
    "            return \"Commerce group\"\n",
    "        \n",
    "    def __del__(self): #Destructor\n",
    "        print(\"Admission process is done, Welcome to our school\")\n",
    "        return \"Admission process is done, Welcome to our school\"\n",
    "\n",
    "std1 = Admission(\"ravi\", 485) #Object attribute\n",
    "std2 = Admission(\"gokul\", 375)\n",
    "std3 = Admission(\"rinsi\", 299)\n",
    "\n",
    "print(std1.Hostel_allocation())\n",
    "print(std1.Hostel_allocation())\n",
    "print(std1.group_selection())\n",
    "print(std3.group_selection())\n",
    "\n",
    "\n",
    "del std1\n"
   ]
  },
  {
   "cell_type": "code",
   "execution_count": 36,
   "metadata": {},
   "outputs": [
    {
     "name": "stdout",
     "output_type": "stream",
     "text": [
      "__main__\n",
      "call\n"
     ]
    }
   ],
   "source": [
    "#__name__ \n",
    "\n",
    "print(__name__)\n",
    "\n",
    "if __name__ == \"__main__\":\n",
    "    print(\"call\")\n",
    "    \n",
    "#Compiler "
   ]
  },
  {
   "cell_type": "code",
   "execution_count": 40,
   "metadata": {},
   "outputs": [
    {
     "name": "stdout",
     "output_type": "stream",
     "text": [
      "Kaveri hostel\n",
      "Kaveri hostel\n",
      "Pure science group\n",
      "Commerce group\n",
      "feed back collecion\n",
      "Feed back completed\n"
     ]
    }
   ],
   "source": [
    "#class method vs static method vs normal method\n",
    "\n",
    "#Static method\n",
    "\n",
    "\n",
    "class Admission:\n",
    "    school_name = \"KVS high school\"\n",
    "    city = \"Tuti\"\n",
    "    \n",
    "    def __init__(self, name, marks): #constructor\n",
    "        self.marks = marks\n",
    "        self.name = name\n",
    "\n",
    "    def Hostel_allocation(self):\n",
    "        if self.marks > 400:\n",
    "            return \"Kaveri hostel\"\n",
    "        elif self.marks > 350:\n",
    "            return \"Krishna hostel\"\n",
    "        else:\n",
    "            return \"Tapti hostel\"\n",
    "    \n",
    "    def group_selection(self):\n",
    "        if self.marks > 400:\n",
    "            return \"Pure science group\"\n",
    "        elif self.marks > 350:\n",
    "            return \"Bio math group\"\n",
    "        elif self.marks > 300:\n",
    "            return \"Computer science group\"\n",
    "        else:\n",
    "            return \"Commerce group\"\n",
    "    \n",
    "    @staticmethod\n",
    "    def feed_back_admission_process():\n",
    "        print(\"feed back collecion\")\n",
    "        return \"Feed back completed\"\n",
    "        \n",
    "\n",
    "\n",
    "std1 = Admission(\"ravi\", 485) #Object attribute\n",
    "std2 = Admission(\"gokul\", 375)\n",
    "std3 = Admission(\"rinsi\", 299)\n",
    "\n",
    "print(std1.Hostel_allocation())\n",
    "print(std1.Hostel_allocation())\n",
    "print(std1.group_selection())\n",
    "print(std3.group_selection())\n",
    "\n",
    "print(std3.feed_back_admission_process())\n"
   ]
  },
  {
   "cell_type": "code",
   "execution_count": 43,
   "metadata": {},
   "outputs": [
    {
     "name": "stdout",
     "output_type": "stream",
     "text": [
      "Kaveri hostel\n",
      "Kaveri hostel\n",
      "Pure science group\n",
      "Commerce group\n",
      "feed back collecion\n"
     ]
    },
    {
     "ename": "AttributeError",
     "evalue": "type object 'Admission' has no attribute 'name'",
     "output_type": "error",
     "traceback": [
      "\u001b[1;31m---------------------------------------------------------------------------\u001b[0m",
      "\u001b[1;31mAttributeError\u001b[0m                            Traceback (most recent call last)",
      "\u001b[1;32m<ipython-input-43-6ba6d93d6660>\u001b[0m in \u001b[0;36m<module>\u001b[1;34m\u001b[0m\n\u001b[0;32m     43\u001b[0m \u001b[0mprint\u001b[0m\u001b[1;33m(\u001b[0m\u001b[0mstd3\u001b[0m\u001b[1;33m.\u001b[0m\u001b[0mgroup_selection\u001b[0m\u001b[1;33m(\u001b[0m\u001b[1;33m)\u001b[0m\u001b[1;33m)\u001b[0m\u001b[1;33m\u001b[0m\u001b[1;33m\u001b[0m\u001b[0m\n\u001b[0;32m     44\u001b[0m \u001b[1;33m\u001b[0m\u001b[0m\n\u001b[1;32m---> 45\u001b[1;33m \u001b[0mprint\u001b[0m\u001b[1;33m(\u001b[0m\u001b[0mstd3\u001b[0m\u001b[1;33m.\u001b[0m\u001b[0mfeed_back_admission_process\u001b[0m\u001b[1;33m(\u001b[0m\u001b[1;33m)\u001b[0m\u001b[1;33m)\u001b[0m\u001b[1;33m\u001b[0m\u001b[1;33m\u001b[0m\u001b[0m\n\u001b[0m",
      "\u001b[1;32m<ipython-input-43-6ba6d93d6660>\u001b[0m in \u001b[0;36mfeed_back_admission_process\u001b[1;34m(self)\u001b[0m\n\u001b[0;32m     30\u001b[0m     \u001b[1;32mdef\u001b[0m \u001b[0mfeed_back_admission_process\u001b[0m\u001b[1;33m(\u001b[0m\u001b[0mself\u001b[0m\u001b[1;33m)\u001b[0m\u001b[1;33m:\u001b[0m\u001b[1;33m\u001b[0m\u001b[1;33m\u001b[0m\u001b[0m\n\u001b[0;32m     31\u001b[0m         \u001b[0mprint\u001b[0m\u001b[1;33m(\u001b[0m\u001b[1;34m\"feed back collecion\"\u001b[0m\u001b[1;33m)\u001b[0m\u001b[1;33m\u001b[0m\u001b[1;33m\u001b[0m\u001b[0m\n\u001b[1;32m---> 32\u001b[1;33m         \u001b[1;32mreturn\u001b[0m \u001b[1;34m\"Feed back completed\"\u001b[0m \u001b[1;33m+\u001b[0m \u001b[0mself\u001b[0m\u001b[1;33m.\u001b[0m\u001b[0mname\u001b[0m\u001b[1;33m\u001b[0m\u001b[1;33m\u001b[0m\u001b[0m\n\u001b[0m\u001b[0;32m     33\u001b[0m \u001b[1;33m\u001b[0m\u001b[0m\n\u001b[0;32m     34\u001b[0m \u001b[1;33m\u001b[0m\u001b[0m\n",
      "\u001b[1;31mAttributeError\u001b[0m: type object 'Admission' has no attribute 'name'"
     ]
    }
   ],
   "source": [
    "#Class method\n",
    "\n",
    "class Admission:\n",
    "    school_name = \"KVS high school\"\n",
    "    city = \"Tuti\"\n",
    "    \n",
    "    def __init__(self, name, marks): #constructor\n",
    "        self.marks = marks\n",
    "        self.name = name\n",
    "\n",
    "    def Hostel_allocation(self):\n",
    "        if self.marks > 400:\n",
    "            return \"Kaveri hostel\"\n",
    "        elif self.marks > 350:\n",
    "            return \"Krishna hostel\"\n",
    "        else:\n",
    "            return \"Tapti hostel\"\n",
    "    \n",
    "    def group_selection(self):\n",
    "        if self.marks > 400:\n",
    "            return \"Pure science group\"\n",
    "        elif self.marks > 350:\n",
    "            return \"Bio math group\"\n",
    "        elif self.marks > 300:\n",
    "            return \"Computer science group\"\n",
    "        else:\n",
    "            return \"Commerce group\"\n",
    "    \n",
    "    @classmethod\n",
    "    def feed_back_admission_process(cls):\n",
    "        print(\"feed back collecion\")\n",
    "        return \"Feed back completed\" + cls.name\n",
    "        \n",
    "\n",
    "\n",
    "std1 = Admission(\"ravi\", 485) #Object attribute\n",
    "std2 = Admission(\"gokul\", 375)\n",
    "std3 = Admission(\"rinsi\", 299)\n",
    "\n",
    "print(std1.Hostel_allocation())\n",
    "print(std1.Hostel_allocation())\n",
    "print(std1.group_selection())\n",
    "print(std3.group_selection())\n",
    "\n",
    "print(std3.feed_back_admission_process())"
   ]
  },
  {
   "cell_type": "code",
   "execution_count": null,
   "metadata": {},
   "outputs": [],
   "source": [
    "#Inheritance"
   ]
  },
  {
   "cell_type": "code",
   "execution_count": null,
   "metadata": {},
   "outputs": [],
   "source": [
    "#3.45 pm to 6.15 pm"
   ]
  },
  {
   "cell_type": "markdown",
   "metadata": {},
   "source": [
    "## Inheritance"
   ]
  },
  {
   "cell_type": "code",
   "execution_count": null,
   "metadata": {},
   "outputs": [],
   "source": [
    "#What's inheritance ?\n",
    "\n",
    "#Feature \n",
    "#Accessing \n",
    "\n"
   ]
  },
  {
   "cell_type": "code",
   "execution_count": 7,
   "metadata": {},
   "outputs": [
    {
     "name": "stdout",
     "output_type": "stream",
     "text": [
      "func1 from parent class\n",
      "func2 from child class\n",
      "func1 from parent class\n"
     ]
    }
   ],
   "source": [
    "#single inheritance\n",
    "\n",
    "#Child (derived class) is accessing the properties of parent(base class)\n",
    "\n",
    "class parent: #Basic feature\n",
    "    def func1(self):\n",
    "        return \"func1 from parent class\"\n",
    "    \n",
    "class child(parent):  #Advanced feature\n",
    "    def func2(self):\n",
    "        return \"func2 from child class\"\n",
    "    \n",
    "    \n",
    "obj1 = parent()\n",
    "print(obj1.func1())\n",
    "    \n",
    "\n",
    "obj2 = child()\n",
    "print(obj2.func2())\n",
    "print(obj2.func1())"
   ]
  },
  {
   "cell_type": "code",
   "execution_count": 9,
   "metadata": {},
   "outputs": [
    {
     "name": "stdout",
     "output_type": "stream",
     "text": [
      "func1 from parent1 class\n",
      "func2 from parent2 class\n",
      "func3 from child class\n"
     ]
    }
   ],
   "source": [
    "#Multiple inheritance\n",
    "\n",
    "#Single child (derived class) is having more parents (base class)\n",
    "\n",
    "\n",
    "class parent1: #Basic feature\n",
    "    def func1(self):\n",
    "        return \"func1 from parent1 class\"\n",
    "    \n",
    "class parent2: #Basic feature\n",
    "    def func2(self):\n",
    "        return \"func2 from parent2 class\"\n",
    "    \n",
    "class child(parent1, parent2):  #Advanced feature\n",
    "    def func3(self):\n",
    "        return \"func3 from child class\"\n",
    "    \n",
    "obj1 = child()\n",
    "\n",
    "print(obj1.func1())\n",
    "print(obj1.func2())\n",
    "print(obj1.func3())"
   ]
  },
  {
   "cell_type": "code",
   "execution_count": 11,
   "metadata": {},
   "outputs": [
    {
     "name": "stdout",
     "output_type": "stream",
     "text": [
      "func1 from parent class\n",
      "func2 from child1 class\n",
      "func1 from parent class\n",
      "func1 from parent class\n",
      "func3 from child2 class\n"
     ]
    }
   ],
   "source": [
    "#Hierarchical inheritance\n",
    "\n",
    "#single parent (base class) for multiple child classes (derived classes)\n",
    "\n",
    "class parent: #Basic feature\n",
    "    def func1(self):\n",
    "        return \"func1 from parent class\"\n",
    "    \n",
    "class child1(parent): #Advanced feature1\n",
    "    def func2(self):\n",
    "        return \"func2 from child1 class\"\n",
    "    \n",
    "class child2(parent):  #Advanced feature2\n",
    "    def func3(self):\n",
    "        return \"func3 from child2 class\"\n",
    "    \n",
    "obj1 = parent()\n",
    "print(obj1.func1())\n",
    "\n",
    "obj2 = child1()\n",
    "print(obj2.func2())\n",
    "print(obj2.func1())\n",
    "\n",
    "obj3 = child2()\n",
    "print(obj3.func1())\n",
    "print(obj3.func3())"
   ]
  },
  {
   "cell_type": "code",
   "execution_count": 15,
   "metadata": {},
   "outputs": [
    {
     "name": "stdout",
     "output_type": "stream",
     "text": [
      "func1 from grand parent class\n",
      "func2 from parent class\n",
      "func1 from grand parent class\n",
      "func3 from child class\n",
      "func2 from parent class\n",
      "func1 from grand parent class\n"
     ]
    }
   ],
   "source": [
    "#Multilevel inheritance\n",
    "\n",
    "\n",
    "#Grand parent ===> Parent ===> child\n",
    "\n",
    "class grandparent: #Basic feature\n",
    "    def func1(self):\n",
    "        return \"func1 from grand parent class\"\n",
    "    \n",
    "class parent(grandparent): #Feature 1\n",
    "    def func2(self):\n",
    "        return \"func2 from parent class\"\n",
    "    \n",
    "class child(parent):  #Advanced feature2\n",
    "    def func3(self):\n",
    "        return \"func3 from child class\"\n",
    "    \n",
    "obj1 = grandparent()\n",
    "print(obj1.func1())\n",
    "\n",
    "obj2 = parent()\n",
    "print(obj2.func2())\n",
    "print(obj2.func1())\n",
    "\n",
    "obj3 = child()\n",
    "print(obj3.func3())\n",
    "print(obj3.func2())\n",
    "print(obj3.func1())"
   ]
  },
  {
   "cell_type": "code",
   "execution_count": 16,
   "metadata": {},
   "outputs": [
    {
     "name": "stdout",
     "output_type": "stream",
     "text": [
      "This function is in school.\n",
      "This function is in student 1. \n"
     ]
    }
   ],
   "source": [
    "#Hybrid inheritance\n",
    "\n",
    "\n",
    "#Combination more than any one type of inheritance\n",
    "\n",
    "#\n",
    "\n",
    "class School:\n",
    "     def func1(self):\n",
    "         print(\"This function is in school.\")\n",
    "  \n",
    "class Student1(School):\n",
    "     def func2(self):\n",
    "         print(\"This function is in student 1. \")\n",
    "  \n",
    "class Student2(School):\n",
    "     def func3(self):\n",
    "         print(\"This function is in student 2.\")\n",
    "  \n",
    "class Student3(Student1, School):\n",
    "     def func4(self):\n",
    "         print(\"This function is in student 3.\")\n",
    "  \n",
    "# Driver's code\n",
    "object = Student3()\n",
    "object.func1()\n",
    "object.func2()\n",
    "\n",
    "#https://www.geeksforgeeks.org/types-of-inheritance-python/?ref=lbp"
   ]
  },
  {
   "cell_type": "code",
   "execution_count": 20,
   "metadata": {},
   "outputs": [
    {
     "name": "stdout",
     "output_type": "stream",
     "text": [
      "func1 from parent class\n",
      "func2 from parent class\n",
      "func1 from child class\n",
      "func3 from child class\n",
      "func2 from parent class\n"
     ]
    }
   ],
   "source": [
    "#Method overriding ==> if same method available in parent and child while inheritance going on, child class will get\n",
    "#priority over parent\n",
    "\n",
    "\n",
    "class parent:\n",
    "    def func1(self):\n",
    "        return \"func1 from parent class\"\n",
    "    \n",
    "    def func2(self):\n",
    "        return \"func2 from parent class\"\n",
    "\n",
    "    \n",
    "class child(parent):\n",
    "    def func1(self):\n",
    "        return \"func1 from child class\"\n",
    "    \n",
    "    def func3(self):\n",
    "        return \"func3 from child class\"\n",
    "    \n",
    "    \n",
    "    \n",
    "obj1 = parent()\n",
    "print(obj1.func1())\n",
    "print(obj1.func2())\n",
    "\n",
    "obj2 = child()\n",
    "print(obj2.func1())\n",
    "print(obj2.func3())\n",
    "print(obj2.func2())"
   ]
  },
  {
   "cell_type": "code",
   "execution_count": 23,
   "metadata": {},
   "outputs": [
    {
     "name": "stdout",
     "output_type": "stream",
     "text": [
      "func1 from parent class\n",
      "func4 from child class\n"
     ]
    }
   ],
   "source": [
    "#super function\n",
    "\n",
    "\n",
    "class parent:\n",
    "    def func1(self):\n",
    "        return \"func1 from parent class\"\n",
    "    \n",
    "    def func2(self):\n",
    "        return \"func2 from parent class\"\n",
    "\n",
    "    \n",
    "class child(parent):\n",
    "    def func4(self):\n",
    "        print(super().func1())\n",
    "        return \"func4 from child class\"\n",
    "    \n",
    "    def func3(self):\n",
    "        return \"func3 from child class\"\n",
    "\n",
    "obj1 = child()\n",
    "print(obj1.func4())\n"
   ]
  },
  {
   "cell_type": "code",
   "execution_count": null,
   "metadata": {},
   "outputs": [],
   "source": [
    "#Diamond shape probelm\n",
    "\n",
    "\n",
    "#single\n",
    "\n",
    "class1, class2\n",
    "class1, class3\n",
    "class2, class4\n",
    "class3, class4\n",
    "\n",
    "#Multiple\n",
    "\n",
    "class2, class3, class4\n",
    "\n",
    "\n",
    "#Hierarchical\n",
    "\n",
    "class1, class2, class3\n",
    "\n",
    "\n",
    "#Multi leve1\n",
    "\n",
    "class1, class2, class4\n",
    "class1, class3, class4\n",
    "\n"
   ]
  },
  {
   "cell_type": "code",
   "execution_count": null,
   "metadata": {},
   "outputs": [],
   "source": [
    "#Diamond shape probelm scenario 1\n",
    "\n",
    "\n",
    "class class1:\n",
    "    def func1(self):\n",
    "        return \"func1 from class1\"\n",
    "    \n",
    "    \n",
    "class class2(class1):\n",
    "    def func1(self):\n",
    "        return \"func1 from class2\"\n",
    "    \n",
    "class class3(class1):\n",
    "    def func1(self):\n",
    "        return \"func1 from class3\"\n",
    "\n",
    "class class4(class2, class3):\n",
    "    def func1(self):\n",
    "        return \"func1 from class4\"\n",
    "    \n",
    "obj1 = class4()\n",
    "\n",
    "print(obj1.func1())"
   ]
  },
  {
   "cell_type": "code",
   "execution_count": 26,
   "metadata": {},
   "outputs": [
    {
     "name": "stdout",
     "output_type": "stream",
     "text": [
      "func1 from class2\n"
     ]
    }
   ],
   "source": [
    "#Diamond shape probelm scenario 2\n",
    "\n",
    "\n",
    "class class1:\n",
    "    def func1(self):\n",
    "        return \"func1 from class1\"\n",
    "    \n",
    "    \n",
    "class class2(class1):\n",
    "    def func1(self):\n",
    "        return \"func1 from class2\"\n",
    "    \n",
    "class class3(class1):\n",
    "    def func1(self):\n",
    "        return \"func1 from class3\"\n",
    "\n",
    "class class4(class2, class3):\n",
    "    def func2(self):\n",
    "        return \"func2 from class4\"\n",
    "    \n",
    "obj1 = class4()\n",
    "\n",
    "print(obj1.func1())"
   ]
  },
  {
   "cell_type": "code",
   "execution_count": 28,
   "metadata": {},
   "outputs": [
    {
     "name": "stdout",
     "output_type": "stream",
     "text": [
      "func1 from class1\n"
     ]
    }
   ],
   "source": [
    "#Diamond shape probelm scenario 2\n",
    "\n",
    "\n",
    "class class1:\n",
    "    def func1(self):\n",
    "        return \"func1 from class1\"\n",
    "    \n",
    "    \n",
    "class class2(class1):\n",
    "    def func5(self):\n",
    "        return \"func5 from class2\"\n",
    "    \n",
    "class class3(class1):\n",
    "    def func6(self):\n",
    "        return \"func6 from class3\"\n",
    "\n",
    "class class4(class2, class3):\n",
    "    def func2(self):\n",
    "        return \"func2 from class4\"\n",
    "    \n",
    "obj1 = class4()\n",
    "\n",
    "print(obj1.func1())\n",
    "\n",
    "\n",
    "#https://www.geeksforgeeks.org/multiple-inheritance-in-python/"
   ]
  },
  {
   "cell_type": "code",
   "execution_count": 30,
   "metadata": {},
   "outputs": [
    {
     "name": "stdout",
     "output_type": "stream",
     "text": [
      "welcome to func1\n",
      "10\n",
      "func1 completed\n",
      "10\n"
     ]
    }
   ],
   "source": [
    "#Encapsulation ==> Data hiding\n",
    "\n",
    "#Data hiding\n",
    "\n",
    "#Public => you can access anywhere\n",
    "\n",
    "class parent:\n",
    "    def __init__(self):\n",
    "        self.a = 10   #public\n",
    "        self._b = 20  #protected\n",
    "        self.__c = 30 #private\n",
    "\n",
    "class child:\n",
    "    def func1(self):\n",
    "        print(\"welcome to func1\")\n",
    "        parent.__init__(self)\n",
    "        print(self.a)\n",
    "        return \"func1 completed\"\n",
    "        \n",
    "obj1 = child()\n",
    "print(obj1.func1())\n",
    "\n",
    "obj2 = parent()\n",
    "print(obj2.a)\n",
    "        \n",
    "        \n"
   ]
  },
  {
   "cell_type": "code",
   "execution_count": 39,
   "metadata": {},
   "outputs": [
    {
     "name": "stdout",
     "output_type": "stream",
     "text": [
      "welcome to func1\n",
      "20\n",
      "func1 completed\n",
      "thorugh child object  20\n",
      "Through parent object 20\n"
     ]
    }
   ],
   "source": [
    "#Encapsulation\n",
    "\n",
    "#Data hiding\n",
    "\n",
    "#protected ===> base class and its derived class\n",
    "\n",
    "class parent:\n",
    "    def __init__(self):\n",
    "        self.a = 10   #public\n",
    "        self._b = 20  #protected\n",
    "        self.__c = 30 #private\n",
    "\n",
    "class child(parent):\n",
    "    def func1(self):\n",
    "        print(\"welcome to func1\")\n",
    "        parent.__init__(self)\n",
    "        print(self._b)\n",
    "        return \"func1 completed\"\n",
    "        \n",
    "obj1 = child()\n",
    "print(obj1.func1())\n",
    "print(\"thorugh child object \",obj1._b)\n",
    "\n",
    "obj2 = parent()\n",
    "print(\"Through parent object\", obj2._b)\n",
    "        "
   ]
  },
  {
   "cell_type": "code",
   "execution_count": null,
   "metadata": {},
   "outputs": [],
   "source": [
    "#https://www.geeksforgeeks.org/encapsulation-in-python/?ref=lbp"
   ]
  },
  {
   "cell_type": "code",
   "execution_count": 35,
   "metadata": {},
   "outputs": [
    {
     "name": "stdout",
     "output_type": "stream",
     "text": [
      "welcome to func1\n"
     ]
    },
    {
     "ename": "AttributeError",
     "evalue": "'child' object has no attribute '_child__c'",
     "output_type": "error",
     "traceback": [
      "\u001b[1;31m---------------------------------------------------------------------------\u001b[0m",
      "\u001b[1;31mAttributeError\u001b[0m                            Traceback (most recent call last)",
      "\u001b[1;32m<ipython-input-35-5e7667a2bafb>\u001b[0m in \u001b[0;36m<module>\u001b[1;34m\u001b[0m\n\u001b[0;32m     19\u001b[0m \u001b[1;33m\u001b[0m\u001b[0m\n\u001b[0;32m     20\u001b[0m \u001b[0mobj1\u001b[0m \u001b[1;33m=\u001b[0m \u001b[0mchild\u001b[0m\u001b[1;33m(\u001b[0m\u001b[1;33m)\u001b[0m\u001b[1;33m\u001b[0m\u001b[1;33m\u001b[0m\u001b[0m\n\u001b[1;32m---> 21\u001b[1;33m \u001b[0mprint\u001b[0m\u001b[1;33m(\u001b[0m\u001b[0mobj1\u001b[0m\u001b[1;33m.\u001b[0m\u001b[0mfunc1\u001b[0m\u001b[1;33m(\u001b[0m\u001b[1;33m)\u001b[0m\u001b[1;33m)\u001b[0m\u001b[1;33m\u001b[0m\u001b[1;33m\u001b[0m\u001b[0m\n\u001b[0m\u001b[0;32m     22\u001b[0m \u001b[1;33m\u001b[0m\u001b[0m\n\u001b[0;32m     23\u001b[0m \u001b[0mobj2\u001b[0m \u001b[1;33m=\u001b[0m \u001b[0mparent\u001b[0m\u001b[1;33m(\u001b[0m\u001b[1;33m)\u001b[0m\u001b[1;33m\u001b[0m\u001b[1;33m\u001b[0m\u001b[0m\n",
      "\u001b[1;32m<ipython-input-35-5e7667a2bafb>\u001b[0m in \u001b[0;36mfunc1\u001b[1;34m(self)\u001b[0m\n\u001b[0;32m     15\u001b[0m         \u001b[0mprint\u001b[0m\u001b[1;33m(\u001b[0m\u001b[1;34m\"welcome to func1\"\u001b[0m\u001b[1;33m)\u001b[0m\u001b[1;33m\u001b[0m\u001b[1;33m\u001b[0m\u001b[0m\n\u001b[0;32m     16\u001b[0m         \u001b[0mparent\u001b[0m\u001b[1;33m.\u001b[0m\u001b[0m__init__\u001b[0m\u001b[1;33m(\u001b[0m\u001b[0mself\u001b[0m\u001b[1;33m)\u001b[0m\u001b[1;33m\u001b[0m\u001b[1;33m\u001b[0m\u001b[0m\n\u001b[1;32m---> 17\u001b[1;33m         \u001b[0mprint\u001b[0m\u001b[1;33m(\u001b[0m\u001b[0mself\u001b[0m\u001b[1;33m.\u001b[0m\u001b[0m__c\u001b[0m\u001b[1;33m)\u001b[0m\u001b[1;33m\u001b[0m\u001b[1;33m\u001b[0m\u001b[0m\n\u001b[0m\u001b[0;32m     18\u001b[0m         \u001b[1;32mreturn\u001b[0m \u001b[1;34m\"func1 completed\"\u001b[0m\u001b[1;33m\u001b[0m\u001b[1;33m\u001b[0m\u001b[0m\n\u001b[0;32m     19\u001b[0m \u001b[1;33m\u001b[0m\u001b[0m\n",
      "\u001b[1;31mAttributeError\u001b[0m: 'child' object has no attribute '_child__c'"
     ]
    }
   ],
   "source": [
    "#Encapsulation\n",
    "\n",
    "#Data hiding\n",
    "\n",
    "#private\n",
    "\n",
    "class parent:\n",
    "    def __init__(self):\n",
    "        self.a = 10   #public\n",
    "        self._b = 20  #protected\n",
    "        self.__c = 30 #private\n",
    "\n",
    "class child:\n",
    "    def func1(self):\n",
    "        print(\"welcome to func1\")\n",
    "        parent.__init__(self)\n",
    "        print(self.__c)\n",
    "        return \"func1 completed\"\n",
    "        \n",
    "obj1 = child()\n",
    "print(obj1.func1())\n",
    "\n",
    "obj2 = parent()\n",
    "print(obj2.__c)\n",
    "        "
   ]
  },
  {
   "cell_type": "code",
   "execution_count": null,
   "metadata": {},
   "outputs": [],
   "source": [
    "#polymorphism ==> many forms"
   ]
  },
  {
   "cell_type": "code",
   "execution_count": 40,
   "metadata": {},
   "outputs": [
    {
     "name": "stdout",
     "output_type": "stream",
     "text": [
      "6\n",
      "4\n"
     ]
    }
   ],
   "source": [
    "#With inbuilt function\n",
    "\n",
    "a = \"python\"\n",
    "b = [\"hello\", \"hi\", \"welcome \", \"train\"]\n",
    "\n",
    "print(len(a))\n",
    "print(len(b))"
   ]
  },
  {
   "cell_type": "code",
   "execution_count": 42,
   "metadata": {},
   "outputs": [
    {
     "name": "stdout",
     "output_type": "stream",
     "text": [
      "130\n",
      "270\n"
     ]
    }
   ],
   "source": [
    "#User def function\n",
    "\n",
    "def func1(x,y,z=100):\n",
    "    return x + y + z\n",
    "\n",
    "print(func1(10,20))\n",
    "print(func1(20,50,200))"
   ]
  },
  {
   "cell_type": "code",
   "execution_count": 43,
   "metadata": {},
   "outputs": [
    {
     "name": "stdout",
     "output_type": "stream",
     "text": [
      "func1 from child class\n",
      "func2 from parent class\n",
      "func3 from child class\n"
     ]
    }
   ],
   "source": [
    "#class\n",
    "\n",
    "class parent:\n",
    "    def func1(self):\n",
    "        return \"func1 from parent class\"\n",
    "    \n",
    "    def func2(self):\n",
    "        return \"func2 from parent class\"\n",
    "\n",
    "    \n",
    "class child(parent):\n",
    "    def func1(self):\n",
    "        return \"func1 from child class\"\n",
    "    \n",
    "    def func3(self):\n",
    "        return \"func3 from child class\"\n",
    "    \n",
    "obj1 = child()\n",
    "\n",
    "print(obj1.func1())\n",
    "print(obj1.func2())\n",
    "print(obj1.func3())"
   ]
  },
  {
   "cell_type": "code",
   "execution_count": null,
   "metadata": {},
   "outputs": [],
   "source": [
    "\n",
    "class Bird:\n",
    "  def intro(self):\n",
    "    print(\"There are many types of birds.\")\n",
    "     \n",
    "  def flight(self):\n",
    "    print(\"Most of the birds can fly but some cannot.\")\n",
    "   \n",
    "class sparrow(Bird):\n",
    "  def flight(self):\n",
    "    print(\"Sparrows can fly.\")\n",
    "     \n",
    "class ostrich(Bird):\n",
    "  def flight(self):\n",
    "    print(\"Ostriches cannot fly.\")\n",
    "     \n",
    "obj_bird = Bird()\n",
    "obj_spr = sparrow()\n",
    "obj_ost = ostrich()\n",
    " \n",
    "obj_bird.intro()\n",
    "obj_bird.flight()\n",
    " \n",
    "obj_spr.intro()\n",
    "obj_spr.flight()\n",
    " \n",
    "obj_ost.intro()\n",
    "obj_ost.flight()"
   ]
  },
  {
   "cell_type": "code",
   "execution_count": 46,
   "metadata": {},
   "outputs": [
    {
     "name": "stdout",
     "output_type": "stream",
     "text": [
      "jio tv is not possible in laptop\n"
     ]
    }
   ],
   "source": [
    "#abstract method / abstract class\n",
    "\n",
    "from abc import ABC,abstractmethod\n",
    "\n",
    "class basic_mobile_features(ABC):\n",
    "    \n",
    "    @abstractmethod\n",
    "    def call_options(self):\n",
    "        pass\n",
    "    \n",
    "    def message_option(self):\n",
    "        pass\n",
    "    \n",
    "    @abstractmethod\n",
    "    def video_call(self):\n",
    "        pass\n",
    "\n",
    "    @abstractmethod\n",
    "    def jiotv(self):\n",
    "        pass\n",
    "    \n",
    "class Laptop(basic_mobile_features):\n",
    "    def video_call(self):\n",
    "        return \"video call is possible in laptop\"\n",
    "    \n",
    "    def jiotv(self):\n",
    "        return \"jio tv is not possible in laptop\"\n",
    "    \n",
    "    def call_options(self):\n",
    "        print(\"call option in laptop is not avail\")\n",
    "    \n",
    "\n",
    "class Mobile(basic_mobile_features):\n",
    "    def video_call(self):\n",
    "        return \"video call is possible in mobile\"\n",
    "    \n",
    "    def jiotv(self):\n",
    "        return \"jio tv is possible in mobile\"\n",
    "    \n",
    "    \n",
    "obj1 = Laptop()\n",
    "\n",
    "print(obj1.jiotv())"
   ]
  },
  {
   "cell_type": "code",
   "execution_count": null,
   "metadata": {},
   "outputs": [],
   "source": [
    "#https://www.geeksforgeeks.org/abstract-classes-in-python/"
   ]
  }
 ],
 "metadata": {
  "kernelspec": {
   "display_name": "Python 3",
   "language": "python",
   "name": "python3"
  },
  "language_info": {
   "codemirror_mode": {
    "name": "ipython",
    "version": 3
   },
   "file_extension": ".py",
   "mimetype": "text/x-python",
   "name": "python",
   "nbconvert_exporter": "python",
   "pygments_lexer": "ipython3",
   "version": "3.7.6"
  }
 },
 "nbformat": 4,
 "nbformat_minor": 4
}
