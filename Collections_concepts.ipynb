{
 "cells": [
  {
   "cell_type": "code",
   "execution_count": 2,
   "metadata": {},
   "outputs": [],
   "source": [
    "#Collections\n",
    "#Datetime\n",
    "#time module\n",
    "#itertools\n",
    "#sys\n",
    "#threads\n",
    "\n",
    "#Counter ==> advanced data structure operation\n",
    "\n",
    "from collections import *\n",
    "\n",
    "#https://www.geeksforgeeks.org/python-collections-module/"
   ]
  },
  {
   "cell_type": "code",
   "execution_count": null,
   "metadata": {},
   "outputs": [],
   "source": [
    "import collections\n",
    "import collections as c\n",
    "from collections import *\n",
    "from collection import Counter"
   ]
  },
  {
   "cell_type": "code",
   "execution_count": null,
   "metadata": {},
   "outputs": [],
   "source": [
    "#collections \n",
    "\n",
    "#deque\n",
    "#Counter\n",
    "#ChainMap\n",
    "#defaultdict\n",
    "#orderdict\n",
    "#namedtuple\n",
    "\n",
    "@Advanced data struct"
   ]
  },
  {
   "cell_type": "code",
   "execution_count": 15,
   "metadata": {},
   "outputs": [
    {
     "name": "stdout",
     "output_type": "stream",
     "text": [
      "Counter({3: 8, 1: 4, 2: 4, 'python': 2, 4: 1, 5: 1})\n"
     ]
    }
   ],
   "source": [
    "#Counter\n",
    "import collections\n",
    "\n",
    "Li1 = [1,2,3,4,5,1,2,3,1,2,3,1,2,3,3,3,3,3,\"python\",\"python\"]\n",
    "\n",
    "print(collections.Counter(Li1))"
   ]
  },
  {
   "cell_type": "code",
   "execution_count": 16,
   "metadata": {},
   "outputs": [
    {
     "name": "stdout",
     "output_type": "stream",
     "text": [
      "Counter({3: 8, 1: 4, 2: 4, 'python': 2, 4: 1, 5: 1})\n"
     ]
    }
   ],
   "source": [
    "#Counter\n",
    "from collections import Counter\n",
    "\n",
    "Li1 = [1,2,3,4,5,1,2,3,1,2,3,1,2,3,3,3,3,3,\"python\",\"python\"]\n",
    "\n",
    "print(Counter(Li1))"
   ]
  },
  {
   "cell_type": "code",
   "execution_count": 3,
   "metadata": {},
   "outputs": [
    {
     "name": "stdout",
     "output_type": "stream",
     "text": [
      "Counter({3: 8, 1: 4, 2: 4, 'python': 2, 4: 1, 5: 1})\n"
     ]
    }
   ],
   "source": [
    "#Counter\n",
    "\n",
    "Li1 = [1,2,3,4,5,1,2,3,1,2,3,1,2,3,3,3,3,3,\"python\",\"python\"]\n",
    "\n",
    "print(Counter(Li1))"
   ]
  },
  {
   "cell_type": "code",
   "execution_count": null,
   "metadata": {},
   "outputs": [],
   "source": [
    "Li = [3,4,5]\n",
    "\n",
    "Li1."
   ]
  },
  {
   "cell_type": "code",
   "execution_count": 4,
   "metadata": {},
   "outputs": [],
   "source": [
    "de = deque()\n",
    "\n"
   ]
  },
  {
   "cell_type": "code",
   "execution_count": null,
   "metadata": {},
   "outputs": [],
   "source": [
    "de."
   ]
  },
  {
   "cell_type": "code",
   "execution_count": 13,
   "metadata": {},
   "outputs": [
    {
     "name": "stdout",
     "output_type": "stream",
     "text": [
      "deque([1, 2, 3, 4, 5])\n",
      "deque([1, 2, 3, 4, 5, 10])\n",
      "deque([1, 2, 3, 4, 5])\n",
      "deque([12, 1, 2, 3, 4, 5])\n",
      "deque([1, 2, 3, 4, 5])\n"
     ]
    }
   ],
   "source": [
    "#deque\n",
    "\n",
    "de = deque([1,2,3,4,5])\n",
    "\n",
    "print(de)\n",
    "\n",
    "de.append(10)\n",
    "\n",
    "print(de)\n",
    "\n",
    "de.pop()\n",
    "\n",
    "print(de)\n",
    "\n",
    "de.appendleft(12)\n",
    "\n",
    "print(de)\n",
    "\n",
    "de.popleft()\n",
    "\n",
    "print(de)"
   ]
  },
  {
   "cell_type": "code",
   "execution_count": 21,
   "metadata": {},
   "outputs": [
    {
     "name": "stdout",
     "output_type": "stream",
     "text": [
      "ChainMap({'a': 1, 'b': 2}, {'b': 4, 'c': 5})\n",
      "['b', 'c', 'a']\n",
      "[2, 5, 1]\n"
     ]
    }
   ],
   "source": [
    "#ChainMap\n",
    "\n",
    "dic1 = {'a':1, 'b':2}\n",
    "dic2 = {'b':4, 'c':5}\n",
    "\n",
    "c = ChainMap(dic1,dic2)\n",
    "print(c)\n",
    "\n",
    "print(list(c.keys()))\n",
    "print(list(c.values()))"
   ]
  },
  {
   "cell_type": "code",
   "execution_count": 5,
   "metadata": {},
   "outputs": [
    {
     "name": "stdout",
     "output_type": "stream",
     "text": [
      "{'a': 1, 'b': 4, 'c': 5}\n"
     ]
    }
   ],
   "source": [
    "dic1 = {'a':1, 'b':2}\n",
    "dic2 = {'b':4, 'c':5}\n",
    "\n",
    "dic1.update(dic2)\n",
    "\n",
    "print(dic1)"
   ]
  },
  {
   "cell_type": "code",
   "execution_count": 6,
   "metadata": {},
   "outputs": [
    {
     "name": "stdout",
     "output_type": "stream",
     "text": [
      "{'a': 1, 'b': 4, 'c': 5}\n"
     ]
    }
   ],
   "source": [
    "dic1 = {'a':1, 'b':2}\n",
    "dic2 = {'b':4, 'c':5}\n",
    "\n",
    "dic3 = {**dic1, **dic2}\n",
    "\n",
    "print(dic3)"
   ]
  },
  {
   "cell_type": "code",
   "execution_count": 11,
   "metadata": {},
   "outputs": [
    {
     "name": "stdout",
     "output_type": "stream",
     "text": [
      "php\n",
      "php\n",
      "0\n"
     ]
    }
   ],
   "source": [
    "#Defaultdict\n",
    "\n",
    "d = {}\n",
    "\n",
    "d[0] = \"python\"\n",
    "d[1] = \"php\"\n",
    "\n",
    "print(d[1])\n",
    "#print(d[100]) #keyError\n",
    "\n",
    "d1 = defaultdict(int)\n",
    "\n",
    "d1[0] = \"python\"\n",
    "d1[1] = \"php\"\n",
    "\n",
    "print(d1[1])\n",
    "\n",
    "print(d1[100])"
   ]
  },
  {
   "cell_type": "code",
   "execution_count": 12,
   "metadata": {},
   "outputs": [
    {
     "name": "stdout",
     "output_type": "stream",
     "text": [
      "OrderedDict([(1, 'python'), (0, 'php')])\n",
      "{1: 'python', 0: 'php'}\n"
     ]
    }
   ],
   "source": [
    "d = OrderedDict()\n",
    "\n",
    "d[1] = \"python\"\n",
    "d[0] = \"php\"\n",
    "\n",
    "print(d)\n",
    "\n",
    "d = {}\n",
    "\n",
    "d[1] = \"python\"\n",
    "d[0] = \"php\"\n",
    "\n",
    "print(d)"
   ]
  },
  {
   "cell_type": "code",
   "execution_count": 36,
   "metadata": {},
   "outputs": [
    {
     "name": "stdout",
     "output_type": "stream",
     "text": [
      "Student(name='vk', age=33, mail='vk@gmail.com')\n",
      "vk\n",
      "33\n",
      "vk\n",
      "vk@gmail.com\n"
     ]
    }
   ],
   "source": [
    "Student = namedtuple('Student', [\"name\", \"age\", \"mail\"])\n",
    "\n",
    "S = Student(\"vk\", 33, \"vk@gmail.com\")\n",
    "N = Student(\"nn\", 29, \"nn@gmail.com\")\n",
    "\n",
    "print(S)\n",
    "\n",
    "print(S[0])\n",
    "print(S[1])\n",
    "\n",
    "print(S.name)\n",
    "print(S.mail)\n",
    "\n",
    "\n",
    "print(N.mail)"
   ]
  },
  {
   "cell_type": "code",
   "execution_count": 14,
   "metadata": {},
   "outputs": [
    {
     "name": "stdout",
     "output_type": "stream",
     "text": [
      "vk\n"
     ]
    }
   ],
   "source": [
    "S = (\"vk\", 33, \"vk@gmail.com\")\n",
    "\n",
    "print(S[0])\n",
    "\n",
    "\n"
   ]
  },
  {
   "cell_type": "code",
   "execution_count": null,
   "metadata": {},
   "outputs": [],
   "source": []
  }
 ],
 "metadata": {
  "kernelspec": {
   "display_name": "Python 3",
   "language": "python",
   "name": "python3"
  },
  "language_info": {
   "codemirror_mode": {
    "name": "ipython",
    "version": 3
   },
   "file_extension": ".py",
   "mimetype": "text/x-python",
   "name": "python",
   "nbconvert_exporter": "python",
   "pygments_lexer": "ipython3",
   "version": "3.7.6"
  }
 },
 "nbformat": 4,
 "nbformat_minor": 4
}
