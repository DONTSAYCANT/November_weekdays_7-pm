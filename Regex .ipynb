{
 "cells": [
  {
   "cell_type": "code",
   "execution_count": 8,
   "metadata": {},
   "outputs": [
    {
     "name": "stdout",
     "output_type": "stream",
     "text": [
      "paper\n",
      "paper\n",
      "scissor\n",
      "scissor\n",
      "paper\n"
     ]
    }
   ],
   "source": [
    "import random\n",
    "\n",
    "Li1 = [\"rock\",\"paper\",\"scissor\"]\n",
    "\n",
    "print(random.choice(Li1))\n",
    "print(random.choice(Li1))\n",
    "print(random.choice(Li1))\n",
    "print(random.choice(Li1))\n",
    "print(random.choice(Li1))"
   ]
  },
  {
   "cell_type": "code",
   "execution_count": null,
   "metadata": {},
   "outputs": [],
   "source": [
    "#Regular Expression ==> pattern identification / pattern matching \n",
    "\n",
    "#Advantage:\n",
    "\n",
    "#job application portal \n",
    "\n",
    "#user name and password ==> rules or patterns\n",
    "\n",
    "#Log : pattern \n",
    "\n",
    "#re\n",
    "\n",
    "part1:\n",
    "    \n",
    "How to write pattern\n",
    "\n",
    "\n",
    "https://regex101.com/\n",
    "    https://www.programiz.com/python-programming/regex\n",
    "\n",
    "\n",
    "part2:\n",
    "    \n",
    "python(main string, pattern) ==> final output    "
   ]
  },
  {
   "cell_type": "code",
   "execution_count": null,
   "metadata": {},
   "outputs": [],
   "source": [
    "part1:\n",
    "    \n",
    "How to write pattern\n",
    "\n",
    "\n",
    "https://regex101.com/\n",
    "    \n",
    "    \n",
    "\\d  ==> matches a digit\n",
    "\\D  ==> matches everthing except digit \n",
    "\\s  ==> matches spaces\n",
    "\\S  ==> matches everthing except spaces\n",
    "\\w  ==> matches characters a-z A-Z 0-9\n",
    "\\W  ==> matches everthing except characters spaces, special characters\n",
    "[]  ===> single value\n",
    "[a-zA-Z0-9]\n",
    "[^] ==> except\n",
    "\\A  ===> whole string starts with \n",
    "\\Z  ==> ===> whole string ends with \n",
    "\\b  ==> starting part of each and every word of the string\n",
    "\\B  ==> ==> except starting part of each and every word of the string  (middle or end)\n",
    "\n",
    "\n",
    "^ ===> starts with \n",
    "$ ===> ends with\n",
    "^$\n",
    ".  ===> means anything except next \n",
    "(|)\n",
    "\n",
    "\n",
    "\n",
    "Quanitifers:\n",
    "    \n",
    "*  0 or more\n",
    "+  1 or more\n",
    "?  0 or 1\n",
    "{} count \n",
    "\n",
    "\\ ===> infront escap sequence\n",
    "\n",
    "\n",
    "\n",
    "\n"
   ]
  },
  {
   "cell_type": "code",
   "execution_count": 9,
   "metadata": {},
   "outputs": [],
   "source": [
    "#Regex part 2\n",
    "\n",
    "import re\n"
   ]
  },
  {
   "cell_type": "code",
   "execution_count": 11,
   "metadata": {},
   "outputs": [
    {
     "name": "stdout",
     "output_type": "stream",
     "text": [
      "['500']\n"
     ]
    }
   ],
   "source": [
    "#findall\n",
    "\n",
    "\n",
    "main = \"i have totally 3 dogs and 4 cats along with 500 fishes\"\n",
    "pattern = \"\\d{3}\"\n",
    "\n",
    "val = re.findall(pattern, main)\n",
    "\n",
    "print(val) #List\n",
    "\n"
   ]
  },
  {
   "cell_type": "code",
   "execution_count": 12,
   "metadata": {},
   "outputs": [
    {
     "name": "stdout",
     "output_type": "stream",
     "text": [
      "['i have totally ', ' dogs and ', ' cats along with ', ' fishes']\n"
     ]
    }
   ],
   "source": [
    "#split\n",
    "\n",
    "main = \"i have totally 3 dogs and 4 cats along with 500 fishes\"\n",
    "pattern = \"\\d+\"\n",
    "\n",
    "val = re.split(pattern, main)\n",
    "\n",
    "print(val) #List\n"
   ]
  },
  {
   "cell_type": "code",
   "execution_count": 14,
   "metadata": {},
   "outputs": [
    {
     "name": "stdout",
     "output_type": "stream",
     "text": [
      "i have totally %%%% dogs and %%%% cats along with %%%% fishes\n"
     ]
    }
   ],
   "source": [
    "#sub\n",
    "\n",
    "main = \"i have totally 3 dogs and 4 cats along with 500 fishes\"\n",
    "pattern = \"\\d+\"\n",
    "subst = \"%%%%\"\n",
    "\n",
    "val = re.sub(pattern,subst, main)\n",
    "\n",
    "print(val) #string"
   ]
  },
  {
   "cell_type": "code",
   "execution_count": 16,
   "metadata": {},
   "outputs": [
    {
     "name": "stdout",
     "output_type": "stream",
     "text": [
      "('i have totally %%%% dogs and %%%% cats along with %%%% fishes along %%%%', 4)\n"
     ]
    }
   ],
   "source": [
    "#subn\n",
    "\n",
    "\n",
    "main = \"i have totally 3 dogs and 4 cats along with 500 fishes along 5\"\n",
    "pattern = \"\\d+\"\n",
    "subst = \"%%%%\"\n",
    "\n",
    "val = re.subn(pattern,subst, main)\n",
    "\n",
    "print(val) #tuple"
   ]
  },
  {
   "cell_type": "code",
   "execution_count": 21,
   "metadata": {},
   "outputs": [
    {
     "name": "stdout",
     "output_type": "stream",
     "text": [
      "11-12-2021\n",
      "11\n",
      "2021\n"
     ]
    }
   ],
   "source": [
    "#search\n",
    "\n",
    "main = \"Today date is 11-12-2021 and tomorrow date is 12-12-2021\"\n",
    "pattern = \"(\\d{2})-\\d{2}-(\\d{4})\"\n",
    "\n",
    "val = re.search(pattern, main)\n",
    "\n",
    "print(val.group())\n",
    "print(val.group(1))\n",
    "print(val.group(2))"
   ]
  },
  {
   "cell_type": "code",
   "execution_count": 24,
   "metadata": {},
   "outputs": [
    {
     "name": "stdout",
     "output_type": "stream",
     "text": [
      "14\n",
      "24\n",
      "(14, 24)\n"
     ]
    }
   ],
   "source": [
    "print(val.start())\n",
    "print(val.end())\n",
    "print(val.span())"
   ]
  },
  {
   "cell_type": "code",
   "execution_count": null,
   "metadata": {},
   "outputs": [],
   "source": [
    "write a pattern to match a number between 50  to 89\n",
    "\n"
   ]
  },
  {
   "cell_type": "code",
   "execution_count": null,
   "metadata": {},
   "outputs": [],
   "source": [
    "Exercise: https://www.hackerrank.com/domains/regex\n",
    "        \n",
    "Ref: https://www.programiz.com/python-programming/regex"
   ]
  },
  {
   "cell_type": "code",
   "execution_count": null,
   "metadata": {},
   "outputs": [],
   "source": [
    "DD-MM-YYYY\n",
    "\n",
    "03-04-2021\n",
    "21-12-2010"
   ]
  },
  {
   "cell_type": "code",
   "execution_count": null,
   "metadata": {},
   "outputs": [],
   "source": []
  }
 ],
 "metadata": {
  "kernelspec": {
   "display_name": "Python 3",
   "language": "python",
   "name": "python3"
  },
  "language_info": {
   "codemirror_mode": {
    "name": "ipython",
    "version": 3
   },
   "file_extension": ".py",
   "mimetype": "text/x-python",
   "name": "python",
   "nbconvert_exporter": "python",
   "pygments_lexer": "ipython3",
   "version": "3.7.6"
  }
 },
 "nbformat": 4,
 "nbformat_minor": 4
}
