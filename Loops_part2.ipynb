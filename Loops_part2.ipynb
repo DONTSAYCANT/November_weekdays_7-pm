{
  "nbformat": 4,
  "nbformat_minor": 0,
  "metadata": {
    "colab": {
      "name": "Loops part2.ipynb",
      "provenance": [],
      "collapsed_sections": []
    },
    "kernelspec": {
      "name": "python3",
      "display_name": "Python 3"
    },
    "language_info": {
      "name": "python"
    },
    "accelerator": "GPU"
  },
  "cells": [
    {
      "cell_type": "code",
      "metadata": {
        "colab": {
          "base_uri": "https://localhost:8080/"
        },
        "id": "bGQlcyBe_jjG",
        "outputId": "af4ccafd-7031-4a1e-bd5f-56be85229769"
      },
      "source": [
        "#for loop\n",
        "\n",
        "#with range\n",
        "\n",
        "for i in range(10):\n",
        "  print(\"hello\")"
      ],
      "execution_count": 3,
      "outputs": [
        {
          "output_type": "stream",
          "name": "stdout",
          "text": [
            "hello\n",
            "hello\n",
            "hello\n",
            "hello\n",
            "hello\n",
            "hello\n",
            "hello\n",
            "hello\n",
            "hello\n",
            "hello\n"
          ]
        }
      ]
    },
    {
      "cell_type": "code",
      "metadata": {
        "id": "kjJo1FuABmaJ"
      },
      "source": [
        "#for with DS\n",
        "\n",
        "#List\n",
        "#tuple\n",
        "#set\n",
        "#dictionary\n",
        "\n",
        "#string"
      ],
      "execution_count": null,
      "outputs": []
    },
    {
      "cell_type": "code",
      "metadata": {
        "colab": {
          "base_uri": "https://localhost:8080/"
        },
        "id": "cX35_PG6Cbyg",
        "outputId": "444c70c6-304e-458c-dedf-731b9f7b14fd"
      },
      "source": [
        "a = \"python\"\n",
        "\n",
        "for i in a:\n",
        "  print(i)"
      ],
      "execution_count": 4,
      "outputs": [
        {
          "output_type": "stream",
          "name": "stdout",
          "text": [
            "p\n",
            "y\n",
            "t\n",
            "h\n",
            "o\n",
            "n\n"
          ]
        }
      ]
    },
    {
      "cell_type": "code",
      "metadata": {
        "id": "UVsygYQGClQi"
      },
      "source": [
        "## while loop\n",
        "\n",
        "#iterate or loop it for sepcific condition\n",
        "\n",
        "while True:\n",
        "  <code 1>\n",
        "  <code 2>\n",
        "  "
      ],
      "execution_count": 5,
      "outputs": []
    },
    {
      "cell_type": "code",
      "metadata": {
        "colab": {
          "base_uri": "https://localhost:8080/"
        },
        "id": "yVM9TGDFCvoy",
        "outputId": "abf271c1-e7ee-426d-abcb-ac27e9037dc7"
      },
      "source": [
        "a = 20\n",
        "\n",
        "print(a > 10)\n",
        "while a > 10:\n",
        "  print(\"inside while loop:\", a)\n",
        "  a = a - 1 #infinite loop\n",
        "print(\"outside while loop\")"
      ],
      "execution_count": 12,
      "outputs": [
        {
          "output_type": "stream",
          "name": "stdout",
          "text": [
            "True\n",
            "inside while loop: 20\n",
            "inside while loop: 19\n",
            "inside while loop: 18\n",
            "inside while loop: 17\n",
            "inside while loop: 16\n",
            "inside while loop: 15\n",
            "inside while loop: 14\n",
            "inside while loop: 13\n",
            "inside while loop: 12\n",
            "inside while loop: 11\n",
            "outside while loop\n"
          ]
        }
      ]
    },
    {
      "cell_type": "code",
      "metadata": {
        "colab": {
          "base_uri": "https://localhost:8080/"
        },
        "id": "0YH1xgaWCyFU",
        "outputId": "8b87600a-684e-43aa-c672-7120a19a5862"
      },
      "source": [
        "#print elements from 10 to 20 using while loop\n",
        "\n",
        "a = 10\n",
        "\n",
        "while a <= 20:\n",
        "  print(\"current a value is \",a)\n",
        "  a = a + 1\n",
        "print(\"outside of while loop\")\n"
      ],
      "execution_count": 13,
      "outputs": [
        {
          "output_type": "stream",
          "name": "stdout",
          "text": [
            "current a value is  10\n",
            "current a value is  11\n",
            "current a value is  12\n",
            "current a value is  13\n",
            "current a value is  14\n",
            "current a value is  15\n",
            "current a value is  16\n",
            "current a value is  17\n",
            "current a value is  18\n",
            "current a value is  19\n",
            "current a value is  20\n",
            "outside of while loop\n"
          ]
        }
      ]
    },
    {
      "cell_type": "code",
      "metadata": {
        "colab": {
          "base_uri": "https://localhost:8080/"
        },
        "id": "JTEbplM_FeFG",
        "outputId": "934e965c-c876-4da5-d06d-b81eecf0cfa4"
      },
      "source": [
        "#print multiples of 8 between 10 to 50\n",
        "#for loop\n",
        "#while loop\n",
        "\n",
        "#for loop\n",
        "\n",
        "for i in range(10,50):\n",
        "  if i % 8 == 0:\n",
        "    print(i)\n"
      ],
      "execution_count": 16,
      "outputs": [
        {
          "output_type": "stream",
          "name": "stdout",
          "text": [
            "16\n",
            "24\n",
            "32\n",
            "40\n",
            "48\n"
          ]
        }
      ]
    },
    {
      "cell_type": "code",
      "metadata": {
        "colab": {
          "base_uri": "https://localhost:8080/"
        },
        "id": "7-wdd29tFeIO",
        "outputId": "17951960-6d2d-44c2-9c8b-a1e60e1a64a5"
      },
      "source": [
        "#while loop\n",
        "a = 10\n",
        "\n",
        "while a<50:\n",
        "  if a % 8 == 0:\n",
        "    print(a)\n",
        "  a = a + 1\n"
      ],
      "execution_count": 20,
      "outputs": [
        {
          "output_type": "stream",
          "name": "stdout",
          "text": [
            "16\n",
            "24\n",
            "32\n",
            "40\n",
            "48\n"
          ]
        }
      ]
    },
    {
      "cell_type": "code",
      "metadata": {
        "colab": {
          "base_uri": "https://localhost:8080/"
        },
        "id": "M7D1gWlDIi3U",
        "outputId": "222e3250-0913-40a2-8ad5-5689742f03a0"
      },
      "source": [
        "# break continue pass\n",
        "\n",
        "#loop breaker\n",
        "\n",
        "#continue\n",
        "for i in range(10,40):\n",
        "  if i % 17 == 0:\n",
        "    print(\"Inside loop and if condition\",i)\n",
        "    continue #skip this iteration and go to next iteration\n",
        "  print(\"Inside loop\",i)"
      ],
      "execution_count": 22,
      "outputs": [
        {
          "output_type": "stream",
          "name": "stdout",
          "text": [
            "Inside loop 10\n",
            "Inside loop 11\n",
            "Inside loop 12\n",
            "Inside loop 13\n",
            "Inside loop 14\n",
            "Inside loop 15\n",
            "Inside loop 16\n",
            "Inside loop and if condition 17\n",
            "Inside loop 18\n",
            "Inside loop 19\n",
            "Inside loop 20\n",
            "Inside loop 21\n",
            "Inside loop 22\n",
            "Inside loop 23\n",
            "Inside loop 24\n",
            "Inside loop 25\n",
            "Inside loop 26\n",
            "Inside loop 27\n",
            "Inside loop 28\n",
            "Inside loop 29\n",
            "Inside loop 30\n",
            "Inside loop 31\n",
            "Inside loop 32\n",
            "Inside loop 33\n",
            "Inside loop and if condition 34\n",
            "Inside loop 35\n",
            "Inside loop 36\n",
            "Inside loop 37\n",
            "Inside loop 38\n",
            "Inside loop 39\n"
          ]
        }
      ]
    },
    {
      "cell_type": "code",
      "metadata": {
        "colab": {
          "base_uri": "https://localhost:8080/"
        },
        "id": "r9u_SYQ4FeLz",
        "outputId": "a1975337-1466-4fb8-a3fe-b4bc6f910ebb"
      },
      "source": [
        "#break\n",
        "for i in range(10,40):\n",
        "  if i % 17 == 0:\n",
        "    print(\"Inside loop and if condition\",i)\n",
        "    break #skip this iteration and go to next iteration\n",
        "  print(\"Inside loop\",i)"
      ],
      "execution_count": 23,
      "outputs": [
        {
          "output_type": "stream",
          "name": "stdout",
          "text": [
            "Inside loop 10\n",
            "Inside loop 11\n",
            "Inside loop 12\n",
            "Inside loop 13\n",
            "Inside loop 14\n",
            "Inside loop 15\n",
            "Inside loop 16\n",
            "Inside loop and if condition 17\n"
          ]
        }
      ]
    },
    {
      "cell_type": "code",
      "metadata": {
        "colab": {
          "base_uri": "https://localhost:8080/"
        },
        "id": "K8nCNUlTFeS5",
        "outputId": "686471a3-4c94-428b-b90c-9f959d208d0e"
      },
      "source": [
        "a = 10\n",
        "\n",
        "while a < 25:\n",
        "  a = a + 1\n",
        "  if a % 5 == 0:\n",
        "    continue\n",
        "  print(a)"
      ],
      "execution_count": 25,
      "outputs": [
        {
          "output_type": "stream",
          "name": "stdout",
          "text": [
            "11\n",
            "12\n",
            "13\n",
            "14\n",
            "16\n",
            "17\n",
            "18\n",
            "19\n",
            "21\n",
            "22\n",
            "23\n",
            "24\n"
          ]
        }
      ]
    },
    {
      "cell_type": "code",
      "metadata": {
        "colab": {
          "base_uri": "https://localhost:8080/"
        },
        "id": "f2upexJ7CyIT",
        "outputId": "c2733cb3-d7df-4878-bd47-fa5d494b9615"
      },
      "source": [
        "#break continue pass\n",
        "a = 10\n",
        "\n",
        "while a < 25:\n",
        "  a = a + 1\n",
        "  if a % 5 == 0:\n",
        "    break\n",
        "  print(a)\n"
      ],
      "execution_count": 26,
      "outputs": [
        {
          "output_type": "stream",
          "name": "stdout",
          "text": [
            "11\n",
            "12\n",
            "13\n",
            "14\n"
          ]
        }
      ]
    },
    {
      "cell_type": "code",
      "metadata": {
        "colab": {
          "base_uri": "https://localhost:8080/"
        },
        "id": "bCWMtr0vCyLH",
        "outputId": "565816c0-8875-4dcf-b72c-e3c13aefaf9d"
      },
      "source": [
        "#for else\n",
        "\n",
        "for i in range(1,10):\n",
        "  print(i)\n",
        "  if i % 5 == 0:\n",
        "    break\n",
        "else:\n",
        "  print(\"loop completed successfully\")"
      ],
      "execution_count": 33,
      "outputs": [
        {
          "output_type": "stream",
          "name": "stdout",
          "text": [
            "1\n",
            "2\n",
            "3\n",
            "4\n",
            "5\n"
          ]
        }
      ]
    },
    {
      "cell_type": "code",
      "metadata": {
        "colab": {
          "base_uri": "https://localhost:8080/"
        },
        "id": "tCC4b-qQME1X",
        "outputId": "f22e5fd1-d394-47a5-e3e4-52540f05e1fd"
      },
      "source": [
        "for i in range(1,10):\n",
        "  if i % 5 == 0:\n",
        "    continue\n",
        "  print(i)\n",
        "else:\n",
        "  print(\"loop completed successfully\")"
      ],
      "execution_count": 34,
      "outputs": [
        {
          "output_type": "stream",
          "name": "stdout",
          "text": [
            "1\n",
            "2\n",
            "3\n",
            "4\n",
            "6\n",
            "7\n",
            "8\n",
            "9\n",
            "loop completed successfully\n"
          ]
        }
      ]
    },
    {
      "cell_type": "code",
      "metadata": {
        "colab": {
          "base_uri": "https://localhost:8080/"
        },
        "id": "i0yoqiG_MJiG",
        "outputId": "d038f53f-9399-4a20-e292-16474a40266a"
      },
      "source": [
        "for i in range(1,10):\n",
        "  print(i)\n",
        "  if i % 5 == 0:\n",
        "    pass\n",
        "else:\n",
        "  print(\"loop completed successfully\")"
      ],
      "execution_count": 32,
      "outputs": [
        {
          "output_type": "stream",
          "name": "stdout",
          "text": [
            "1\n",
            "2\n",
            "3\n",
            "4\n",
            "5\n",
            "6\n",
            "7\n",
            "8\n",
            "9\n",
            "loop completed successfully\n"
          ]
        }
      ]
    },
    {
      "cell_type": "code",
      "metadata": {
        "id": "AS4a4iViNDGl"
      },
      "source": [
        "break else ==> if else"
      ],
      "execution_count": null,
      "outputs": []
    },
    {
      "cell_type": "code",
      "metadata": {
        "id": "BElS8hEYLvKa"
      },
      "source": [
        "(#while else"
      ],
      "execution_count": null,
      "outputs": []
    },
    {
      "cell_type": "code",
      "metadata": {
        "colab": {
          "base_uri": "https://localhost:8080/"
        },
        "id": "NgDyei2TNRNq",
        "outputId": "791c7f5e-c0bc-4b49-cb3d-d2c928469e83"
      },
      "source": [
        "a = 10\n",
        "\n",
        "while a < 20:\n",
        "  a = a + 1\n",
        "  if a % 15 == 0:\n",
        "    continue  \n",
        "  print(a)\n",
        "else:\n",
        "  print(\"loop completed\")\n"
      ],
      "execution_count": 35,
      "outputs": [
        {
          "output_type": "stream",
          "name": "stdout",
          "text": [
            "11\n",
            "12\n",
            "13\n",
            "14\n",
            "16\n",
            "17\n",
            "18\n",
            "19\n",
            "20\n",
            "loop completed\n"
          ]
        }
      ]
    },
    {
      "cell_type": "code",
      "metadata": {
        "colab": {
          "base_uri": "https://localhost:8080/"
        },
        "id": "a8QJXhaHNhkz",
        "outputId": "cd21576b-f441-40ec-95e3-38b052e8ce99"
      },
      "source": [
        "a = 10\n",
        "while a < 20:\n",
        "  a = a + 1\n",
        "  if a % 15 == 0:\n",
        "    break  \n",
        "  print(a)\n",
        "else:\n",
        "  print(\"loop completed\")"
      ],
      "execution_count": 36,
      "outputs": [
        {
          "output_type": "stream",
          "name": "stdout",
          "text": [
            "11\n",
            "12\n",
            "13\n",
            "14\n"
          ]
        }
      ]
    },
    {
      "cell_type": "code",
      "metadata": {
        "colab": {
          "base_uri": "https://localhost:8080/"
        },
        "id": "OdtQfRZcNiuU",
        "outputId": "93085a7e-b7cc-451b-8c99-fc279568d154"
      },
      "source": [
        "a = 10\n",
        "while a < 20:\n",
        "  a = a + 1\n",
        "  if a % 15 == 0:\n",
        "    pass  \n",
        "  print(a)\n",
        "else:\n",
        "  print(\"loop completed\")"
      ],
      "execution_count": 37,
      "outputs": [
        {
          "output_type": "stream",
          "name": "stdout",
          "text": [
            "11\n",
            "12\n",
            "13\n",
            "14\n",
            "15\n",
            "16\n",
            "17\n",
            "18\n",
            "19\n",
            "20\n",
            "loop completed\n"
          ]
        }
      ]
    },
    {
      "cell_type": "code",
      "metadata": {
        "id": "nLnDLelxNRTf"
      },
      "source": [
        ""
      ],
      "execution_count": null,
      "outputs": []
    },
    {
      "cell_type": "code",
      "metadata": {
        "colab": {
          "base_uri": "https://localhost:8080/"
        },
        "id": "QHuJjn1ILxGf",
        "outputId": "8e62de37-aecc-44a4-f160-b78b8fa300d3"
      },
      "source": [
        "#while with True or variable\n",
        "\n",
        "a = 0\n",
        "\n",
        "while True:\n",
        "  print(\"hello\")\n",
        "  a = a + 1\n",
        "  #infinite loop\n",
        "  if a == 10:\n",
        "    break\n",
        "\n"
      ],
      "execution_count": 38,
      "outputs": [
        {
          "output_type": "stream",
          "name": "stdout",
          "text": [
            "hello\n",
            "hello\n",
            "hello\n",
            "hello\n",
            "hello\n",
            "hello\n",
            "hello\n",
            "hello\n",
            "hello\n",
            "hello\n"
          ]
        }
      ]
    },
    {
      "cell_type": "code",
      "metadata": {
        "colab": {
          "base_uri": "https://localhost:8080/"
        },
        "id": "5CnC3wpPRhQC",
        "outputId": "6688862e-366c-4fa1-cff1-079f0d82ec27"
      },
      "source": [
        "a = 10\n",
        "\n",
        "while a:\n",
        "  print(\"hello\")\n",
        "  break"
      ],
      "execution_count": 40,
      "outputs": [
        {
          "output_type": "stream",
          "name": "stdout",
          "text": [
            "hello\n"
          ]
        }
      ]
    },
    {
      "cell_type": "code",
      "metadata": {
        "colab": {
          "base_uri": "https://localhost:8080/"
        },
        "id": "sPqh60lSSBBt",
        "outputId": "625f006d-5b0e-488f-a67f-ec5ee3d145db"
      },
      "source": [
        "print(10)\n",
        "print(bool(10))"
      ],
      "execution_count": 42,
      "outputs": [
        {
          "output_type": "stream",
          "name": "stdout",
          "text": [
            "10\n",
            "True\n"
          ]
        }
      ]
    },
    {
      "cell_type": "code",
      "metadata": {
        "id": "g5_1QsCYSEyS"
      },
      "source": [
        ""
      ],
      "execution_count": null,
      "outputs": []
    }
  ]
}