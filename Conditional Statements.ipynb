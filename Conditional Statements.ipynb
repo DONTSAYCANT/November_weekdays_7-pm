{
 "cells": [
  {
   "cell_type": "code",
   "execution_count": null,
   "metadata": {},
   "outputs": [],
   "source": [
    "#Indentation\n",
    "#Boolean data type\n",
    "#Condition\n",
    "\n",
    "#assignment operator\n",
    "#comparison operator\n",
    "#logical operator\n",
    "\n",
    "\n",
    "#membership operator\n",
    "#ternary operator\n",
    "\n",
    "#key words: if elif else\n",
    "\n"
   ]
  },
  {
   "cell_type": "code",
   "execution_count": null,
   "metadata": {},
   "outputs": [],
   "source": [
    "#Boolean \n",
    "\n",
    "#True \n",
    "#False\n"
   ]
  },
  {
   "cell_type": "code",
   "execution_count": 1,
   "metadata": {},
   "outputs": [
    {
     "name": "stdout",
     "output_type": "stream",
     "text": [
      "20\n"
     ]
    }
   ],
   "source": [
    "#assignment operator (=)\n",
    "\n",
    "val = 20\n",
    "\n",
    "print(val)"
   ]
  },
  {
   "cell_type": "code",
   "execution_count": 3,
   "metadata": {},
   "outputs": [
    {
     "name": "stdout",
     "output_type": "stream",
     "text": [
      "False\n",
      "True\n"
     ]
    }
   ],
   "source": [
    "#comparison operator\n",
    "\n",
    "#< > <= >= == !=\n",
    "\n",
    "a = 10\n",
    "b = 20\n",
    "\n",
    "print(a > b)\n",
    "\n",
    "print(a != b)\n",
    "\n",
    "#Boolean datatype"
   ]
  },
  {
   "cell_type": "code",
   "execution_count": 4,
   "metadata": {},
   "outputs": [
    {
     "name": "stdout",
     "output_type": "stream",
     "text": [
      "True\n"
     ]
    }
   ],
   "source": [
    "#logical operator\n",
    "\n",
    "#and\n",
    "#or\n",
    "\n",
    "a = 10\n",
    "b = 11\n",
    "\n",
    "print(a<b  and a!= b)\n",
    "\n",
    "print(a<b  or a!= b)\n",
    "\n",
    "\n",
    "#AND\n",
    "\n",
    "true + true ==> true\n",
    "Otherwise False\n",
    "\n",
    "#OR\n",
    "\n",
    "false + false   ===> false\n",
    "Otherwise True"
   ]
  },
  {
   "cell_type": "code",
   "execution_count": 8,
   "metadata": {},
   "outputs": [
    {
     "name": "stdout",
     "output_type": "stream",
     "text": [
      "True\n",
      "value is equal\n",
      "Inside if condition\n",
      "main pgm\n",
      "outside if condition\n"
     ]
    }
   ],
   "source": [
    "#Indentation\n",
    "\n",
    "a = 10\n",
    "print(a == 10)\n",
    "\n",
    "if a == 10:  #opening brace\n",
    "    print(\"value is equal\")\n",
    "    print(\"Inside if condition\")  #closed brace\n",
    "print(\"main pgm\")\n",
    "print(\"outside if condition\")"
   ]
  },
  {
   "cell_type": "code",
   "execution_count": 7,
   "metadata": {},
   "outputs": [
    {
     "name": "stdout",
     "output_type": "stream",
     "text": [
      "main pgm\n",
      "outside if condition\n"
     ]
    }
   ],
   "source": [
    "a = 10\n",
    "\n",
    "if a != 10:  #opening brace\n",
    "    print(\"value is equal\")\n",
    "    print(\"Inside if condition\")  #closed brace\n",
    "print(\"main pgm\")\n",
    "print(\"outside if condition\")"
   ]
  },
  {
   "cell_type": "code",
   "execution_count": null,
   "metadata": {},
   "outputs": [],
   "source": [
    "#Indentation : scope\n",
    "\n",
    "if a > 10 {\n",
    "    <code 1>\n",
    "    <code 2>\n",
    "    <code 3>\n",
    "}"
   ]
  },
  {
   "cell_type": "code",
   "execution_count": null,
   "metadata": {},
   "outputs": [],
   "source": [
    "https://www.w3schools.com/python/python_conditions.asp"
   ]
  },
  {
   "cell_type": "code",
   "execution_count": null,
   "metadata": {},
   "outputs": [],
   "source": [
    "https://github.com/pathakabhi24/Hacking-related-books/blob/master/Automate%20the%20Boring%20Stuff%20with%20Python%20-%20Practical%20Programming%20for%20Total%20Beginners%20by%20Al%20Sweigart.pdf"
   ]
  },
  {
   "cell_type": "code",
   "execution_count": 4,
   "metadata": {},
   "outputs": [
    {
     "ename": "IndentationError",
     "evalue": "unexpected indent (<ipython-input-4-72678e9f3a58>, line 8)",
     "output_type": "error",
     "traceback": [
      "\u001b[1;36m  File \u001b[1;32m\"<ipython-input-4-72678e9f3a58>\"\u001b[1;36m, line \u001b[1;32m8\u001b[0m\n\u001b[1;33m    print(\"Inside if condition\")  #closed brace\u001b[0m\n\u001b[1;37m    ^\u001b[0m\n\u001b[1;31mIndentationError\u001b[0m\u001b[1;31m:\u001b[0m unexpected indent\n"
     ]
    }
   ],
   "source": [
    "#Indentation mistakes\n",
    "\n",
    "a = 10\n",
    "print(a == 10)\n",
    "\n",
    "if a == 10:  #opening brace\n",
    "    print(\"value is equal\")\n",
    "    print(\"Inside if condition\")  #closed brace\n",
    "print(\"main pgm\")\n",
    "print(\"outside if condition\")\n",
    "\n"
   ]
  },
  {
   "cell_type": "code",
   "execution_count": null,
   "metadata": {},
   "outputs": [],
   "source": [
    "1. Try to give four spaces or single tab for indentation\n",
    "2. Try to give equal number of spaces for indentation"
   ]
  },
  {
   "cell_type": "code",
   "execution_count": null,
   "metadata": {},
   "outputs": [],
   "source": [
    "if \n",
    "elif\n",
    "else\n",
    "\n"
   ]
  },
  {
   "cell_type": "code",
   "execution_count": 6,
   "metadata": {},
   "outputs": [
    {
     "name": "stdout",
     "output_type": "stream",
     "text": [
      "please enter a string: 787\n",
      "787 is palindrome\n"
     ]
    }
   ],
   "source": [
    "#Check whether string is palindrome or not\n",
    "\n",
    "#malayalam\n",
    "#mom\n",
    "#dad\n",
    "\n",
    "a = input(\"please enter a string: \")\n",
    "reversed_string = a[::-1]\n",
    "\n",
    "if a == reversed_string:\n",
    "    print(\"{} is palindrome\".format(a))\n",
    "else:\n",
    "    print(\"{} is not a palindrome\".format(a))"
   ]
  },
  {
   "cell_type": "code",
   "execution_count": null,
   "metadata": {},
   "outputs": [],
   "source": [
    "#if\n",
    "    condition\n",
    "\n",
    "#elif : n number of times\n",
    "\n",
    "#else\n",
    "  Last check (NOTA)\n",
    "    without condition\n",
    "\n"
   ]
  },
  {
   "cell_type": "code",
   "execution_count": 12,
   "metadata": {},
   "outputs": [
    {
     "name": "stdout",
     "output_type": "stream",
     "text": [
      "please enter your mark: 100\n",
      "pass mark with distinction\n"
     ]
    }
   ],
   "source": [
    "#collect a mark from user\n",
    "\n",
    "#if mark between 0 to 50 ===> Fail\n",
    "#if mark is 50 - 70  ==> pass with first class\n",
    "#if mark is 70 to 100 ===> pass with distinction\n",
    "\n",
    "\n",
    "mark = int(input(\"please enter your mark: \"))\n",
    "\n",
    "if mark > 0 and mark < 50:\n",
    "    print(\"Fail mark\")\n",
    "elif mark >= 50 and mark < 70:\n",
    "    print(\"pass mark with first class\")\n",
    "elif mark >= 70 and mark <= 100:\n",
    "    print(\"pass mark with distinction\")\n",
    "    \n",
    "    \n"
   ]
  },
  {
   "cell_type": "code",
   "execution_count": 20,
   "metadata": {},
   "outputs": [
    {
     "name": "stdout",
     "output_type": "stream",
     "text": [
      "please enter your mark: 150\n"
     ]
    }
   ],
   "source": [
    "mark = int(input(\"please enter your mark: \"))\n",
    "\n",
    "if mark > 0 and mark < 50:\n",
    "    print(\"Fail mark\")\n",
    "elif mark >=50 and mark <=100:\n",
    "    print(\"Pass mark\")\n",
    "    if mark <= 70:\n",
    "        print(\"First class\")\n",
    "    elif mark >70:\n",
    "        print(\"Distinction\")\n",
    "        \n",
    "#else: NOTA\n",
    "\n",
    "\n",
    "#if 0 to 100 Valid mark\n",
    "#else: Invlaid mark\n",
    "\n",
    "#150 ==> Invalid mark\n",
    "\n",
    "#77 ==>\n",
    "Valid mark\n",
    "Pass mark\n",
    "Distinction"
   ]
  },
  {
   "cell_type": "code",
   "execution_count": 23,
   "metadata": {},
   "outputs": [
    {
     "name": "stdout",
     "output_type": "stream",
     "text": [
      "please enter your mark: 98\n",
      "Mark is valid\n",
      "Pass mark\n",
      "Distinction\n"
     ]
    }
   ],
   "source": [
    "mark = int(input(\"please enter your mark: \"))\n",
    "\n",
    "if mark >= 0 and mark <= 100:\n",
    "    print(\"Mark is valid\")\n",
    "    if mark < 50:\n",
    "        print(\"Fail mark\")\n",
    "    else:\n",
    "        print(\"Pass mark\")\n",
    "        if mark <= 70:\n",
    "            print(\"First class\")\n",
    "        else:\n",
    "            print(\"Distinction\")\n",
    "else:\n",
    "    print(\"Mark is invalid\")\n"
   ]
  },
  {
   "cell_type": "code",
   "execution_count": 27,
   "metadata": {},
   "outputs": [
    {
     "name": "stdout",
     "output_type": "stream",
     "text": [
      "Please enter a number: 60\n",
      "Fizz Buzz\n"
     ]
    }
   ],
   "source": [
    "#Fizzbuzz prgm\n",
    "\n",
    "#get one number from user\n",
    "#if number is multiple of 3 ===> Fizz\n",
    "#If number is multiple of 5 ===> Buzz\n",
    "#If number is multiple of 3 and 5 ===> FizzBuzz\n",
    "#Other wise ===> Invalid number \n",
    "\n",
    "number = int(input(\"Please enter a number: \"))\n",
    "\n",
    "if number % 3 == 0 and number % 5 ==0 :\n",
    "    print(\"Fizz Buzz\")\n",
    "elif number % 5 == 0:\n",
    "    print(\"Buzz\")\n",
    "elif number % 3 == 0:\n",
    "    print(\"Fizz\")\n",
    "else:\n",
    "    print(\"Invalid number\")\n",
    "\n"
   ]
  },
  {
   "cell_type": "code",
   "execution_count": 28,
   "metadata": {},
   "outputs": [
    {
     "name": "stdout",
     "output_type": "stream",
     "text": [
      "122\n"
     ]
    }
   ],
   "source": [
    "#ord\n",
    "#chr\n",
    "\n",
    "val = \"z\"\n",
    "\n",
    "print(ord(val))"
   ]
  },
  {
   "cell_type": "code",
   "execution_count": null,
   "metadata": {},
   "outputs": [],
   "source": []
  },
  {
   "cell_type": "code",
   "execution_count": null,
   "metadata": {},
   "outputs": [],
   "source": [
    "#if True\n",
    "#Nested if  Done\n",
    "#Member ship operator\n",
    "\n"
   ]
  },
  {
   "cell_type": "code",
   "execution_count": 29,
   "metadata": {},
   "outputs": [
    {
     "name": "stdout",
     "output_type": "stream",
     "text": [
      "value is available\n"
     ]
    }
   ],
   "source": [
    "#in\n",
    "#not in\n",
    "\n",
    "#membership operator\n",
    "\n",
    "Li1 = [10,11,12,13,15]\n",
    "find = 15\n",
    "\n",
    "if find in Li1:\n",
    "    print(\"value is available\")\n",
    "else:\n",
    "    print(\"Not available\")\n",
    "    "
   ]
  },
  {
   "cell_type": "code",
   "execution_count": 30,
   "metadata": {},
   "outputs": [
    {
     "name": "stdout",
     "output_type": "stream",
     "text": [
      "Available\n"
     ]
    }
   ],
   "source": [
    "Li1 = [10,11,12,13,15]\n",
    "find = 15\n",
    "\n",
    "if find not in Li1:\n",
    "    print(\"value is not available\")\n",
    "else:\n",
    "    print(\"Available\")"
   ]
  },
  {
   "cell_type": "code",
   "execution_count": 32,
   "metadata": {},
   "outputs": [
    {
     "name": "stdout",
     "output_type": "stream",
     "text": [
      "Its vowel\n"
     ]
    }
   ],
   "source": [
    "a = \"u\"\n",
    "\n",
    "if a in \"aeiou\":\n",
    "    print(\"Its vowel\")\n",
    "else:\n",
    "    print(\"not a vowel\")"
   ]
  },
  {
   "cell_type": "code",
   "execution_count": 33,
   "metadata": {},
   "outputs": [
    {
     "name": "stdout",
     "output_type": "stream",
     "text": [
      "10\n"
     ]
    }
   ],
   "source": [
    "#ternary operator\n",
    "\n",
    "val = 500\n",
    "\n",
    "a = 10 if val > 100 else 5\n",
    "\n",
    "print(a)"
   ]
  },
  {
   "cell_type": "code",
   "execution_count": 34,
   "metadata": {},
   "outputs": [
    {
     "name": "stdout",
     "output_type": "stream",
     "text": [
      "5\n"
     ]
    }
   ],
   "source": [
    "val = 50\n",
    "\n",
    "a = 10 if val > 100 else 5\n",
    "\n",
    "print(a)"
   ]
  },
  {
   "cell_type": "code",
   "execution_count": null,
   "metadata": {},
   "outputs": [],
   "source": []
  }
 ],
 "metadata": {
  "kernelspec": {
   "display_name": "Python 3",
   "language": "python",
   "name": "python3"
  },
  "language_info": {
   "codemirror_mode": {
    "name": "ipython",
    "version": 3
   },
   "file_extension": ".py",
   "mimetype": "text/x-python",
   "name": "python",
   "nbconvert_exporter": "python",
   "pygments_lexer": "ipython3",
   "version": "3.7.6"
  }
 },
 "nbformat": 4,
 "nbformat_minor": 4
}
